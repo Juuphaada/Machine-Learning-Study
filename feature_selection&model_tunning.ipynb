{
  "nbformat": 4,
  "nbformat_minor": 0,
  "metadata": {
    "colab": {
      "provenance": [],
      "authorship_tag": "ABX9TyPn89qX+BW/6O4IszJQxRPW",
      "include_colab_link": true
    },
    "kernelspec": {
      "name": "python3",
      "display_name": "Python 3"
    },
    "language_info": {
      "name": "python"
    }
  },
  "cells": [
    {
      "cell_type": "markdown",
      "metadata": {
        "id": "view-in-github",
        "colab_type": "text"
      },
      "source": [
        "<a href=\"https://colab.research.google.com/github/Juuphaada/Machine-Learning-Study/blob/main/feature_selection%26model_tunning.ipynb\" target=\"_parent\"><img src=\"https://colab.research.google.com/assets/colab-badge.svg\" alt=\"Open In Colab\"/></a>"
      ]
    },
    {
      "cell_type": "code",
      "source": [
        "!pip install --upgrade tensorflow"
      ],
      "metadata": {
        "colab": {
          "base_uri": "https://localhost:8080/"
        },
        "id": "UcDlebqc68V-",
        "outputId": "4272a7de-3d46-4ab0-bf8b-8876ee6a8a93",
        "collapsed": true
      },
      "execution_count": null,
      "outputs": [
        {
          "output_type": "stream",
          "name": "stdout",
          "text": [
            "Requirement already satisfied: tensorflow in /usr/local/lib/python3.10/dist-packages (2.15.0)\n",
            "Collecting tensorflow\n",
            "  Downloading tensorflow-2.15.0.post1-cp310-cp310-manylinux_2_17_x86_64.manylinux2014_x86_64.whl (475.2 MB)\n",
            "\u001b[2K     \u001b[90m━━━━━━━━━━━━━━━━━━━━━━━━━━━━━━━━━━━━━━━━\u001b[0m \u001b[32m475.2/475.2 MB\u001b[0m \u001b[31m2.0 MB/s\u001b[0m eta \u001b[36m0:00:00\u001b[0m\n",
            "\u001b[?25hRequirement already satisfied: absl-py>=1.0.0 in /usr/local/lib/python3.10/dist-packages (from tensorflow) (1.4.0)\n",
            "Requirement already satisfied: astunparse>=1.6.0 in /usr/local/lib/python3.10/dist-packages (from tensorflow) (1.6.3)\n",
            "Requirement already satisfied: flatbuffers>=23.5.26 in /usr/local/lib/python3.10/dist-packages (from tensorflow) (23.5.26)\n",
            "Requirement already satisfied: gast!=0.5.0,!=0.5.1,!=0.5.2,>=0.2.1 in /usr/local/lib/python3.10/dist-packages (from tensorflow) (0.5.4)\n",
            "Requirement already satisfied: google-pasta>=0.1.1 in /usr/local/lib/python3.10/dist-packages (from tensorflow) (0.2.0)\n",
            "Requirement already satisfied: h5py>=2.9.0 in /usr/local/lib/python3.10/dist-packages (from tensorflow) (3.9.0)\n",
            "Requirement already satisfied: libclang>=13.0.0 in /usr/local/lib/python3.10/dist-packages (from tensorflow) (16.0.6)\n",
            "Requirement already satisfied: ml-dtypes~=0.2.0 in /usr/local/lib/python3.10/dist-packages (from tensorflow) (0.2.0)\n",
            "Requirement already satisfied: numpy<2.0.0,>=1.23.5 in /usr/local/lib/python3.10/dist-packages (from tensorflow) (1.23.5)\n",
            "Requirement already satisfied: opt-einsum>=2.3.2 in /usr/local/lib/python3.10/dist-packages (from tensorflow) (3.3.0)\n",
            "Requirement already satisfied: packaging in /usr/local/lib/python3.10/dist-packages (from tensorflow) (23.2)\n",
            "Requirement already satisfied: protobuf!=4.21.0,!=4.21.1,!=4.21.2,!=4.21.3,!=4.21.4,!=4.21.5,<5.0.0dev,>=3.20.3 in /usr/local/lib/python3.10/dist-packages (from tensorflow) (3.20.3)\n",
            "Requirement already satisfied: setuptools in /usr/local/lib/python3.10/dist-packages (from tensorflow) (67.7.2)\n",
            "Requirement already satisfied: six>=1.12.0 in /usr/local/lib/python3.10/dist-packages (from tensorflow) (1.16.0)\n",
            "Requirement already satisfied: termcolor>=1.1.0 in /usr/local/lib/python3.10/dist-packages (from tensorflow) (2.4.0)\n",
            "Requirement already satisfied: typing-extensions>=3.6.6 in /usr/local/lib/python3.10/dist-packages (from tensorflow) (4.5.0)\n",
            "Requirement already satisfied: wrapt<1.15,>=1.11.0 in /usr/local/lib/python3.10/dist-packages (from tensorflow) (1.14.1)\n",
            "Requirement already satisfied: tensorflow-io-gcs-filesystem>=0.23.1 in /usr/local/lib/python3.10/dist-packages (from tensorflow) (0.35.0)\n",
            "Requirement already satisfied: grpcio<2.0,>=1.24.3 in /usr/local/lib/python3.10/dist-packages (from tensorflow) (1.60.0)\n",
            "Requirement already satisfied: tensorboard<2.16,>=2.15 in /usr/local/lib/python3.10/dist-packages (from tensorflow) (2.15.1)\n",
            "Requirement already satisfied: tensorflow-estimator<2.16,>=2.15.0 in /usr/local/lib/python3.10/dist-packages (from tensorflow) (2.15.0)\n",
            "Requirement already satisfied: keras<2.16,>=2.15.0 in /usr/local/lib/python3.10/dist-packages (from tensorflow) (2.15.0)\n",
            "Requirement already satisfied: wheel<1.0,>=0.23.0 in /usr/local/lib/python3.10/dist-packages (from astunparse>=1.6.0->tensorflow) (0.42.0)\n",
            "Requirement already satisfied: google-auth<3,>=1.6.3 in /usr/local/lib/python3.10/dist-packages (from tensorboard<2.16,>=2.15->tensorflow) (2.17.3)\n",
            "Requirement already satisfied: google-auth-oauthlib<2,>=0.5 in /usr/local/lib/python3.10/dist-packages (from tensorboard<2.16,>=2.15->tensorflow) (1.2.0)\n",
            "Requirement already satisfied: markdown>=2.6.8 in /usr/local/lib/python3.10/dist-packages (from tensorboard<2.16,>=2.15->tensorflow) (3.5.2)\n",
            "Requirement already satisfied: requests<3,>=2.21.0 in /usr/local/lib/python3.10/dist-packages (from tensorboard<2.16,>=2.15->tensorflow) (2.31.0)\n",
            "Requirement already satisfied: tensorboard-data-server<0.8.0,>=0.7.0 in /usr/local/lib/python3.10/dist-packages (from tensorboard<2.16,>=2.15->tensorflow) (0.7.2)\n",
            "Requirement already satisfied: werkzeug>=1.0.1 in /usr/local/lib/python3.10/dist-packages (from tensorboard<2.16,>=2.15->tensorflow) (3.0.1)\n",
            "Requirement already satisfied: cachetools<6.0,>=2.0.0 in /usr/local/lib/python3.10/dist-packages (from google-auth<3,>=1.6.3->tensorboard<2.16,>=2.15->tensorflow) (5.3.2)\n",
            "Requirement already satisfied: pyasn1-modules>=0.2.1 in /usr/local/lib/python3.10/dist-packages (from google-auth<3,>=1.6.3->tensorboard<2.16,>=2.15->tensorflow) (0.3.0)\n",
            "Requirement already satisfied: rsa<5,>=3.1.4 in /usr/local/lib/python3.10/dist-packages (from google-auth<3,>=1.6.3->tensorboard<2.16,>=2.15->tensorflow) (4.9)\n",
            "Requirement already satisfied: requests-oauthlib>=0.7.0 in /usr/local/lib/python3.10/dist-packages (from google-auth-oauthlib<2,>=0.5->tensorboard<2.16,>=2.15->tensorflow) (1.3.1)\n",
            "Requirement already satisfied: charset-normalizer<4,>=2 in /usr/local/lib/python3.10/dist-packages (from requests<3,>=2.21.0->tensorboard<2.16,>=2.15->tensorflow) (3.3.2)\n",
            "Requirement already satisfied: idna<4,>=2.5 in /usr/local/lib/python3.10/dist-packages (from requests<3,>=2.21.0->tensorboard<2.16,>=2.15->tensorflow) (3.6)\n",
            "Requirement already satisfied: urllib3<3,>=1.21.1 in /usr/local/lib/python3.10/dist-packages (from requests<3,>=2.21.0->tensorboard<2.16,>=2.15->tensorflow) (2.0.7)\n",
            "Requirement already satisfied: certifi>=2017.4.17 in /usr/local/lib/python3.10/dist-packages (from requests<3,>=2.21.0->tensorboard<2.16,>=2.15->tensorflow) (2023.11.17)\n",
            "Requirement already satisfied: MarkupSafe>=2.1.1 in /usr/local/lib/python3.10/dist-packages (from werkzeug>=1.0.1->tensorboard<2.16,>=2.15->tensorflow) (2.1.4)\n",
            "Requirement already satisfied: pyasn1<0.6.0,>=0.4.6 in /usr/local/lib/python3.10/dist-packages (from pyasn1-modules>=0.2.1->google-auth<3,>=1.6.3->tensorboard<2.16,>=2.15->tensorflow) (0.5.1)\n",
            "Requirement already satisfied: oauthlib>=3.0.0 in /usr/local/lib/python3.10/dist-packages (from requests-oauthlib>=0.7.0->google-auth-oauthlib<2,>=0.5->tensorboard<2.16,>=2.15->tensorflow) (3.2.2)\n",
            "Installing collected packages: tensorflow\n",
            "  Attempting uninstall: tensorflow\n",
            "    Found existing installation: tensorflow 2.15.0\n",
            "    Uninstalling tensorflow-2.15.0:\n",
            "      Successfully uninstalled tensorflow-2.15.0\n",
            "Successfully installed tensorflow-2.15.0.post1\n"
          ]
        }
      ]
    },
    {
      "cell_type": "code",
      "source": [
        "!pip install scikeras[tensorflow]"
      ],
      "metadata": {
        "colab": {
          "base_uri": "https://localhost:8080/"
        },
        "id": "EvETZLrI7cJn",
        "outputId": "4bb70a63-6597-42b2-da5a-8127c871e99f",
        "collapsed": true
      },
      "execution_count": null,
      "outputs": [
        {
          "output_type": "stream",
          "name": "stdout",
          "text": [
            "Collecting scikeras[tensorflow]\n",
            "  Downloading scikeras-0.12.0-py3-none-any.whl (27 kB)\n",
            "Requirement already satisfied: packaging>=0.21 in /usr/local/lib/python3.10/dist-packages (from scikeras[tensorflow]) (23.2)\n",
            "Requirement already satisfied: scikit-learn>=1.0.0 in /usr/local/lib/python3.10/dist-packages (from scikeras[tensorflow]) (1.2.2)\n",
            "Collecting tensorflow<2.13.0,>=2.12.0 (from scikeras[tensorflow])\n",
            "  Downloading tensorflow-2.12.1-cp310-cp310-manylinux_2_17_x86_64.manylinux2014_x86_64.whl (585.9 MB)\n",
            "\u001b[2K     \u001b[90m━━━━━━━━━━━━━━━━━━━━━━━━━━━━━━━━━━━━━━━━\u001b[0m \u001b[32m585.9/585.9 MB\u001b[0m \u001b[31m1.8 MB/s\u001b[0m eta \u001b[36m0:00:00\u001b[0m\n",
            "\u001b[?25hRequirement already satisfied: numpy>=1.17.3 in /usr/local/lib/python3.10/dist-packages (from scikit-learn>=1.0.0->scikeras[tensorflow]) (1.23.5)\n",
            "Requirement already satisfied: scipy>=1.3.2 in /usr/local/lib/python3.10/dist-packages (from scikit-learn>=1.0.0->scikeras[tensorflow]) (1.11.4)\n",
            "Requirement already satisfied: joblib>=1.1.1 in /usr/local/lib/python3.10/dist-packages (from scikit-learn>=1.0.0->scikeras[tensorflow]) (1.3.2)\n",
            "Requirement already satisfied: threadpoolctl>=2.0.0 in /usr/local/lib/python3.10/dist-packages (from scikit-learn>=1.0.0->scikeras[tensorflow]) (3.2.0)\n",
            "Requirement already satisfied: absl-py>=1.0.0 in /usr/local/lib/python3.10/dist-packages (from tensorflow<2.13.0,>=2.12.0->scikeras[tensorflow]) (1.4.0)\n",
            "Requirement already satisfied: astunparse>=1.6.0 in /usr/local/lib/python3.10/dist-packages (from tensorflow<2.13.0,>=2.12.0->scikeras[tensorflow]) (1.6.3)\n",
            "Requirement already satisfied: flatbuffers>=2.0 in /usr/local/lib/python3.10/dist-packages (from tensorflow<2.13.0,>=2.12.0->scikeras[tensorflow]) (23.5.26)\n",
            "Collecting gast<=0.4.0,>=0.2.1 (from tensorflow<2.13.0,>=2.12.0->scikeras[tensorflow])\n",
            "  Downloading gast-0.4.0-py3-none-any.whl (9.8 kB)\n",
            "Requirement already satisfied: google-pasta>=0.1.1 in /usr/local/lib/python3.10/dist-packages (from tensorflow<2.13.0,>=2.12.0->scikeras[tensorflow]) (0.2.0)\n",
            "Requirement already satisfied: grpcio<2.0,>=1.24.3 in /usr/local/lib/python3.10/dist-packages (from tensorflow<2.13.0,>=2.12.0->scikeras[tensorflow]) (1.60.0)\n",
            "Requirement already satisfied: h5py>=2.9.0 in /usr/local/lib/python3.10/dist-packages (from tensorflow<2.13.0,>=2.12.0->scikeras[tensorflow]) (3.9.0)\n",
            "Requirement already satisfied: jax>=0.3.15 in /usr/local/lib/python3.10/dist-packages (from tensorflow<2.13.0,>=2.12.0->scikeras[tensorflow]) (0.4.23)\n",
            "Collecting keras<2.13,>=2.12.0 (from tensorflow<2.13.0,>=2.12.0->scikeras[tensorflow])\n",
            "  Downloading keras-2.12.0-py2.py3-none-any.whl (1.7 MB)\n",
            "\u001b[2K     \u001b[90m━━━━━━━━━━━━━━━━━━━━━━━━━━━━━━━━━━━━━━━━\u001b[0m \u001b[32m1.7/1.7 MB\u001b[0m \u001b[31m20.1 MB/s\u001b[0m eta \u001b[36m0:00:00\u001b[0m\n",
            "\u001b[?25hRequirement already satisfied: libclang>=13.0.0 in /usr/local/lib/python3.10/dist-packages (from tensorflow<2.13.0,>=2.12.0->scikeras[tensorflow]) (16.0.6)\n",
            "Requirement already satisfied: opt-einsum>=2.3.2 in /usr/local/lib/python3.10/dist-packages (from tensorflow<2.13.0,>=2.12.0->scikeras[tensorflow]) (3.3.0)\n",
            "Requirement already satisfied: protobuf!=4.21.0,!=4.21.1,!=4.21.2,!=4.21.3,!=4.21.4,!=4.21.5,<5.0.0dev,>=3.20.3 in /usr/local/lib/python3.10/dist-packages (from tensorflow<2.13.0,>=2.12.0->scikeras[tensorflow]) (3.20.3)\n",
            "Requirement already satisfied: setuptools in /usr/local/lib/python3.10/dist-packages (from tensorflow<2.13.0,>=2.12.0->scikeras[tensorflow]) (67.7.2)\n",
            "Requirement already satisfied: six>=1.12.0 in /usr/local/lib/python3.10/dist-packages (from tensorflow<2.13.0,>=2.12.0->scikeras[tensorflow]) (1.16.0)\n",
            "Collecting tensorboard<2.13,>=2.12 (from tensorflow<2.13.0,>=2.12.0->scikeras[tensorflow])\n",
            "  Downloading tensorboard-2.12.3-py3-none-any.whl (5.6 MB)\n",
            "\u001b[2K     \u001b[90m━━━━━━━━━━━━━━━━━━━━━━━━━━━━━━━━━━━━━━━━\u001b[0m \u001b[32m5.6/5.6 MB\u001b[0m \u001b[31m56.1 MB/s\u001b[0m eta \u001b[36m0:00:00\u001b[0m\n",
            "\u001b[?25hCollecting tensorflow-estimator<2.13,>=2.12.0 (from tensorflow<2.13.0,>=2.12.0->scikeras[tensorflow])\n",
            "  Downloading tensorflow_estimator-2.12.0-py2.py3-none-any.whl (440 kB)\n",
            "\u001b[2K     \u001b[90m━━━━━━━━━━━━━━━━━━━━━━━━━━━━━━━━━━━━━━━━\u001b[0m \u001b[32m440.7/440.7 kB\u001b[0m \u001b[31m29.2 MB/s\u001b[0m eta \u001b[36m0:00:00\u001b[0m\n",
            "\u001b[?25hRequirement already satisfied: termcolor>=1.1.0 in /usr/local/lib/python3.10/dist-packages (from tensorflow<2.13.0,>=2.12.0->scikeras[tensorflow]) (2.4.0)\n",
            "Requirement already satisfied: typing-extensions<4.6.0,>=3.6.6 in /usr/local/lib/python3.10/dist-packages (from tensorflow<2.13.0,>=2.12.0->scikeras[tensorflow]) (4.5.0)\n",
            "Requirement already satisfied: wrapt<1.15,>=1.11.0 in /usr/local/lib/python3.10/dist-packages (from tensorflow<2.13.0,>=2.12.0->scikeras[tensorflow]) (1.14.1)\n",
            "Requirement already satisfied: tensorflow-io-gcs-filesystem>=0.23.1 in /usr/local/lib/python3.10/dist-packages (from tensorflow<2.13.0,>=2.12.0->scikeras[tensorflow]) (0.35.0)\n",
            "Requirement already satisfied: wheel<1.0,>=0.23.0 in /usr/local/lib/python3.10/dist-packages (from astunparse>=1.6.0->tensorflow<2.13.0,>=2.12.0->scikeras[tensorflow]) (0.42.0)\n",
            "Requirement already satisfied: ml-dtypes>=0.2.0 in /usr/local/lib/python3.10/dist-packages (from jax>=0.3.15->tensorflow<2.13.0,>=2.12.0->scikeras[tensorflow]) (0.2.0)\n",
            "Requirement already satisfied: google-auth<3,>=1.6.3 in /usr/local/lib/python3.10/dist-packages (from tensorboard<2.13,>=2.12->tensorflow<2.13.0,>=2.12.0->scikeras[tensorflow]) (2.17.3)\n",
            "Collecting google-auth-oauthlib<1.1,>=0.5 (from tensorboard<2.13,>=2.12->tensorflow<2.13.0,>=2.12.0->scikeras[tensorflow])\n",
            "  Downloading google_auth_oauthlib-1.0.0-py2.py3-none-any.whl (18 kB)\n",
            "Requirement already satisfied: markdown>=2.6.8 in /usr/local/lib/python3.10/dist-packages (from tensorboard<2.13,>=2.12->tensorflow<2.13.0,>=2.12.0->scikeras[tensorflow]) (3.5.2)\n",
            "Requirement already satisfied: requests<3,>=2.21.0 in /usr/local/lib/python3.10/dist-packages (from tensorboard<2.13,>=2.12->tensorflow<2.13.0,>=2.12.0->scikeras[tensorflow]) (2.31.0)\n",
            "Requirement already satisfied: tensorboard-data-server<0.8.0,>=0.7.0 in /usr/local/lib/python3.10/dist-packages (from tensorboard<2.13,>=2.12->tensorflow<2.13.0,>=2.12.0->scikeras[tensorflow]) (0.7.2)\n",
            "Requirement already satisfied: werkzeug>=1.0.1 in /usr/local/lib/python3.10/dist-packages (from tensorboard<2.13,>=2.12->tensorflow<2.13.0,>=2.12.0->scikeras[tensorflow]) (3.0.1)\n",
            "Requirement already satisfied: cachetools<6.0,>=2.0.0 in /usr/local/lib/python3.10/dist-packages (from google-auth<3,>=1.6.3->tensorboard<2.13,>=2.12->tensorflow<2.13.0,>=2.12.0->scikeras[tensorflow]) (5.3.2)\n",
            "Requirement already satisfied: pyasn1-modules>=0.2.1 in /usr/local/lib/python3.10/dist-packages (from google-auth<3,>=1.6.3->tensorboard<2.13,>=2.12->tensorflow<2.13.0,>=2.12.0->scikeras[tensorflow]) (0.3.0)\n",
            "Requirement already satisfied: rsa<5,>=3.1.4 in /usr/local/lib/python3.10/dist-packages (from google-auth<3,>=1.6.3->tensorboard<2.13,>=2.12->tensorflow<2.13.0,>=2.12.0->scikeras[tensorflow]) (4.9)\n",
            "Requirement already satisfied: requests-oauthlib>=0.7.0 in /usr/local/lib/python3.10/dist-packages (from google-auth-oauthlib<1.1,>=0.5->tensorboard<2.13,>=2.12->tensorflow<2.13.0,>=2.12.0->scikeras[tensorflow]) (1.3.1)\n",
            "Requirement already satisfied: charset-normalizer<4,>=2 in /usr/local/lib/python3.10/dist-packages (from requests<3,>=2.21.0->tensorboard<2.13,>=2.12->tensorflow<2.13.0,>=2.12.0->scikeras[tensorflow]) (3.3.2)\n",
            "Requirement already satisfied: idna<4,>=2.5 in /usr/local/lib/python3.10/dist-packages (from requests<3,>=2.21.0->tensorboard<2.13,>=2.12->tensorflow<2.13.0,>=2.12.0->scikeras[tensorflow]) (3.6)\n",
            "Requirement already satisfied: urllib3<3,>=1.21.1 in /usr/local/lib/python3.10/dist-packages (from requests<3,>=2.21.0->tensorboard<2.13,>=2.12->tensorflow<2.13.0,>=2.12.0->scikeras[tensorflow]) (2.0.7)\n",
            "Requirement already satisfied: certifi>=2017.4.17 in /usr/local/lib/python3.10/dist-packages (from requests<3,>=2.21.0->tensorboard<2.13,>=2.12->tensorflow<2.13.0,>=2.12.0->scikeras[tensorflow]) (2023.11.17)\n",
            "Requirement already satisfied: MarkupSafe>=2.1.1 in /usr/local/lib/python3.10/dist-packages (from werkzeug>=1.0.1->tensorboard<2.13,>=2.12->tensorflow<2.13.0,>=2.12.0->scikeras[tensorflow]) (2.1.4)\n",
            "Requirement already satisfied: pyasn1<0.6.0,>=0.4.6 in /usr/local/lib/python3.10/dist-packages (from pyasn1-modules>=0.2.1->google-auth<3,>=1.6.3->tensorboard<2.13,>=2.12->tensorflow<2.13.0,>=2.12.0->scikeras[tensorflow]) (0.5.1)\n",
            "Requirement already satisfied: oauthlib>=3.0.0 in /usr/local/lib/python3.10/dist-packages (from requests-oauthlib>=0.7.0->google-auth-oauthlib<1.1,>=0.5->tensorboard<2.13,>=2.12->tensorflow<2.13.0,>=2.12.0->scikeras[tensorflow]) (3.2.2)\n",
            "Installing collected packages: tensorflow-estimator, keras, gast, scikeras, google-auth-oauthlib, tensorboard, tensorflow\n",
            "  Attempting uninstall: tensorflow-estimator\n",
            "    Found existing installation: tensorflow-estimator 2.15.0\n",
            "    Uninstalling tensorflow-estimator-2.15.0:\n",
            "      Successfully uninstalled tensorflow-estimator-2.15.0\n",
            "  Attempting uninstall: keras\n",
            "    Found existing installation: keras 2.15.0\n",
            "    Uninstalling keras-2.15.0:\n",
            "      Successfully uninstalled keras-2.15.0\n",
            "  Attempting uninstall: gast\n",
            "    Found existing installation: gast 0.5.4\n",
            "    Uninstalling gast-0.5.4:\n",
            "      Successfully uninstalled gast-0.5.4\n",
            "  Attempting uninstall: google-auth-oauthlib\n",
            "    Found existing installation: google-auth-oauthlib 1.2.0\n",
            "    Uninstalling google-auth-oauthlib-1.2.0:\n",
            "      Successfully uninstalled google-auth-oauthlib-1.2.0\n",
            "  Attempting uninstall: tensorboard\n",
            "    Found existing installation: tensorboard 2.15.1\n",
            "    Uninstalling tensorboard-2.15.1:\n",
            "      Successfully uninstalled tensorboard-2.15.1\n",
            "  Attempting uninstall: tensorflow\n",
            "    Found existing installation: tensorflow 2.15.0.post1\n",
            "    Uninstalling tensorflow-2.15.0.post1:\n",
            "      Successfully uninstalled tensorflow-2.15.0.post1\n",
            "Successfully installed gast-0.4.0 google-auth-oauthlib-1.0.0 keras-2.12.0 scikeras-0.12.0 tensorboard-2.12.3 tensorflow-2.12.1 tensorflow-estimator-2.12.0\n"
          ]
        }
      ]
    },
    {
      "cell_type": "markdown",
      "source": [
        "#Feature Selection"
      ],
      "metadata": {
        "id": "5e7q25tB1ArJ"
      }
    },
    {
      "cell_type": "markdown",
      "source": [
        "---------------------------------------------------------"
      ],
      "metadata": {
        "id": "8W0gbOEOS0Zo"
      }
    },
    {
      "cell_type": "code",
      "execution_count": null,
      "metadata": {
        "id": "OK-6Nlxt6CMI"
      },
      "outputs": [],
      "source": [
        "import pandas as pd\n",
        "from sklearn.model_selection import cross_val_score, train_test_split\n",
        "from sklearn.svm import SVC\n",
        "from sklearn.model_selection import cross_val_score, StratifiedKFold\n",
        "from sklearn.ensemble import RandomForestClassifier\n",
        "from sklearn.neighbors import KNeighborsClassifier\n",
        "from sklearn.metrics import accuracy_score\n",
        "from sklearn.preprocessing import StandardScaler\n",
        "from sklearn.pipeline import make_pipeline\n",
        "#from tensorflow.keras.models import Sequential\n",
        "#from tensorflow.keras.layers import Dense\n",
        "#from tensorflow.keras.wrappers.scikit_learn import KerasClassifier\n",
        "import numpy as np"
      ]
    },
    {
      "cell_type": "code",
      "source": [
        "# อ่านข้อมูลจากไฟล์ CSV\n",
        "#csv_file_path = \"/content/drive/MyDrive/ปี 3/วิจัย/งานกลุ่ม/Hipertension Arterial Mexico Data Set/Hipertension_Arterial_Mexico.csv\"\n",
        "csv_file_path = \"/content/Hipertension_Arterial_Mexico.csv\"\n",
        "data = pd.read_csv(csv_file_path)"
      ],
      "metadata": {
        "id": "U6LY--bd76SC"
      },
      "execution_count": null,
      "outputs": []
    },
    {
      "cell_type": "code",
      "source": [
        "# ตัด'FOLIO_I'ออก (IDคนไข้ ไม่ใช้ในการ predict)\n",
        "\n",
        "#X= data[ig_22f]\n",
        "X = data.drop(['riesgo_hipertension','FOLIO_I'],axis=1).copy()\n",
        "y = data['riesgo_hipertension']\n",
        "# แบ่งข้อมูลเป็นชุดฝึกและชุดทดสอบ\n",
        "X_train, X_test, y_train, y_test = train_test_split(X, y, test_size=0.2, random_state=42)"
      ],
      "metadata": {
        "id": "qQGYgZIHzmtc"
      },
      "execution_count": null,
      "outputs": []
    },
    {
      "cell_type": "markdown",
      "source": [
        "##feature selection\n",
        "\n",
        "\n",
        "*   information gain (ใช้อันนี้)\n",
        "*   Sequential Selection\n",
        "\n"
      ],
      "metadata": {
        "id": "yj_W-nSum3ax"
      }
    },
    {
      "cell_type": "markdown",
      "source": [
        "###information gain (ใช้อันนี้)"
      ],
      "metadata": {
        "id": "BYKC-M2FeCk-"
      }
    },
    {
      "cell_type": "code",
      "source": [
        "from sklearn.model_selection import train_test_split\n",
        "from sklearn.feature_selection import SelectKBest, chi2, mutual_info_classif\n",
        "from sklearn.metrics import accuracy_score\n",
        "from sklearn.naive_bayes import GaussianNB\n",
        "import matplotlib.pyplot as plt\n",
        "import matplotlib.ticker as mticker\n",
        "mnb = GaussianNB()\n",
        "\n",
        "feature_names = X.columns\n",
        "mi = dict()\n",
        "\n",
        "i_scores = mutual_info_classif(X, y)\n",
        "\n",
        "for i,j in zip(feature_names,i_scores):\n",
        "    mi[i]=j\n",
        "\n",
        "df_i = pd.DataFrame.from_dict(mi,orient='index',columns=['I-Gain'])\n",
        "df_i.sort_values(by=['I-Gain'],ascending=False,inplace=True)\n",
        "df_i.head(15)"
      ],
      "metadata": {
        "colab": {
          "base_uri": "https://localhost:8080/",
          "height": 520
        },
        "id": "gna4PAuNeZOs",
        "outputId": "088415ca-4c3b-4bb1-a593-d7a73f885259"
      },
      "execution_count": null,
      "outputs": [
        {
          "output_type": "execute_result",
          "data": {
            "text/plain": [
              "                                    I-Gain\n",
              "masa_corporal                     0.318560\n",
              "peso                              0.226940\n",
              "medida_cintura                    0.214187\n",
              "edad                              0.138210\n",
              "circunferencia_de_la_pantorrilla  0.120366\n",
              "segundamedicion_estatura          0.117462\n",
              "segundamedicion_peso              0.116769\n",
              "distancia_rodilla_talon           0.115652\n",
              "estatura                          0.106029\n",
              "segundamedicion_cintura           0.105125\n",
              "actividad_total                   0.051819\n",
              "tension_arterial                  0.049873\n",
              "valor_proteinac_reactiva          0.021472\n",
              "valor_vitamina_d                  0.019389\n",
              "sexo                              0.017882"
            ],
            "text/html": [
              "\n",
              "  <div id=\"df-1d3318fd-e073-4e7a-82e7-c48d75fa5a22\" class=\"colab-df-container\">\n",
              "    <div>\n",
              "<style scoped>\n",
              "    .dataframe tbody tr th:only-of-type {\n",
              "        vertical-align: middle;\n",
              "    }\n",
              "\n",
              "    .dataframe tbody tr th {\n",
              "        vertical-align: top;\n",
              "    }\n",
              "\n",
              "    .dataframe thead th {\n",
              "        text-align: right;\n",
              "    }\n",
              "</style>\n",
              "<table border=\"1\" class=\"dataframe\">\n",
              "  <thead>\n",
              "    <tr style=\"text-align: right;\">\n",
              "      <th></th>\n",
              "      <th>I-Gain</th>\n",
              "    </tr>\n",
              "  </thead>\n",
              "  <tbody>\n",
              "    <tr>\n",
              "      <th>masa_corporal</th>\n",
              "      <td>0.318560</td>\n",
              "    </tr>\n",
              "    <tr>\n",
              "      <th>peso</th>\n",
              "      <td>0.226940</td>\n",
              "    </tr>\n",
              "    <tr>\n",
              "      <th>medida_cintura</th>\n",
              "      <td>0.214187</td>\n",
              "    </tr>\n",
              "    <tr>\n",
              "      <th>edad</th>\n",
              "      <td>0.138210</td>\n",
              "    </tr>\n",
              "    <tr>\n",
              "      <th>circunferencia_de_la_pantorrilla</th>\n",
              "      <td>0.120366</td>\n",
              "    </tr>\n",
              "    <tr>\n",
              "      <th>segundamedicion_estatura</th>\n",
              "      <td>0.117462</td>\n",
              "    </tr>\n",
              "    <tr>\n",
              "      <th>segundamedicion_peso</th>\n",
              "      <td>0.116769</td>\n",
              "    </tr>\n",
              "    <tr>\n",
              "      <th>distancia_rodilla_talon</th>\n",
              "      <td>0.115652</td>\n",
              "    </tr>\n",
              "    <tr>\n",
              "      <th>estatura</th>\n",
              "      <td>0.106029</td>\n",
              "    </tr>\n",
              "    <tr>\n",
              "      <th>segundamedicion_cintura</th>\n",
              "      <td>0.105125</td>\n",
              "    </tr>\n",
              "    <tr>\n",
              "      <th>actividad_total</th>\n",
              "      <td>0.051819</td>\n",
              "    </tr>\n",
              "    <tr>\n",
              "      <th>tension_arterial</th>\n",
              "      <td>0.049873</td>\n",
              "    </tr>\n",
              "    <tr>\n",
              "      <th>valor_proteinac_reactiva</th>\n",
              "      <td>0.021472</td>\n",
              "    </tr>\n",
              "    <tr>\n",
              "      <th>valor_vitamina_d</th>\n",
              "      <td>0.019389</td>\n",
              "    </tr>\n",
              "    <tr>\n",
              "      <th>sexo</th>\n",
              "      <td>0.017882</td>\n",
              "    </tr>\n",
              "  </tbody>\n",
              "</table>\n",
              "</div>\n",
              "    <div class=\"colab-df-buttons\">\n",
              "\n",
              "  <div class=\"colab-df-container\">\n",
              "    <button class=\"colab-df-convert\" onclick=\"convertToInteractive('df-1d3318fd-e073-4e7a-82e7-c48d75fa5a22')\"\n",
              "            title=\"Convert this dataframe to an interactive table.\"\n",
              "            style=\"display:none;\">\n",
              "\n",
              "  <svg xmlns=\"http://www.w3.org/2000/svg\" height=\"24px\" viewBox=\"0 -960 960 960\">\n",
              "    <path d=\"M120-120v-720h720v720H120Zm60-500h600v-160H180v160Zm220 220h160v-160H400v160Zm0 220h160v-160H400v160ZM180-400h160v-160H180v160Zm440 0h160v-160H620v160ZM180-180h160v-160H180v160Zm440 0h160v-160H620v160Z\"/>\n",
              "  </svg>\n",
              "    </button>\n",
              "\n",
              "  <style>\n",
              "    .colab-df-container {\n",
              "      display:flex;\n",
              "      gap: 12px;\n",
              "    }\n",
              "\n",
              "    .colab-df-convert {\n",
              "      background-color: #E8F0FE;\n",
              "      border: none;\n",
              "      border-radius: 50%;\n",
              "      cursor: pointer;\n",
              "      display: none;\n",
              "      fill: #1967D2;\n",
              "      height: 32px;\n",
              "      padding: 0 0 0 0;\n",
              "      width: 32px;\n",
              "    }\n",
              "\n",
              "    .colab-df-convert:hover {\n",
              "      background-color: #E2EBFA;\n",
              "      box-shadow: 0px 1px 2px rgba(60, 64, 67, 0.3), 0px 1px 3px 1px rgba(60, 64, 67, 0.15);\n",
              "      fill: #174EA6;\n",
              "    }\n",
              "\n",
              "    .colab-df-buttons div {\n",
              "      margin-bottom: 4px;\n",
              "    }\n",
              "\n",
              "    [theme=dark] .colab-df-convert {\n",
              "      background-color: #3B4455;\n",
              "      fill: #D2E3FC;\n",
              "    }\n",
              "\n",
              "    [theme=dark] .colab-df-convert:hover {\n",
              "      background-color: #434B5C;\n",
              "      box-shadow: 0px 1px 3px 1px rgba(0, 0, 0, 0.15);\n",
              "      filter: drop-shadow(0px 1px 2px rgba(0, 0, 0, 0.3));\n",
              "      fill: #FFFFFF;\n",
              "    }\n",
              "  </style>\n",
              "\n",
              "    <script>\n",
              "      const buttonEl =\n",
              "        document.querySelector('#df-1d3318fd-e073-4e7a-82e7-c48d75fa5a22 button.colab-df-convert');\n",
              "      buttonEl.style.display =\n",
              "        google.colab.kernel.accessAllowed ? 'block' : 'none';\n",
              "\n",
              "      async function convertToInteractive(key) {\n",
              "        const element = document.querySelector('#df-1d3318fd-e073-4e7a-82e7-c48d75fa5a22');\n",
              "        const dataTable =\n",
              "          await google.colab.kernel.invokeFunction('convertToInteractive',\n",
              "                                                    [key], {});\n",
              "        if (!dataTable) return;\n",
              "\n",
              "        const docLinkHtml = 'Like what you see? Visit the ' +\n",
              "          '<a target=\"_blank\" href=https://colab.research.google.com/notebooks/data_table.ipynb>data table notebook</a>'\n",
              "          + ' to learn more about interactive tables.';\n",
              "        element.innerHTML = '';\n",
              "        dataTable['output_type'] = 'display_data';\n",
              "        await google.colab.output.renderOutput(dataTable, element);\n",
              "        const docLink = document.createElement('div');\n",
              "        docLink.innerHTML = docLinkHtml;\n",
              "        element.appendChild(docLink);\n",
              "      }\n",
              "    </script>\n",
              "  </div>\n",
              "\n",
              "\n",
              "<div id=\"df-820c85ef-ad93-4daf-9c6e-09a5c2941fdf\">\n",
              "  <button class=\"colab-df-quickchart\" onclick=\"quickchart('df-820c85ef-ad93-4daf-9c6e-09a5c2941fdf')\"\n",
              "            title=\"Suggest charts\"\n",
              "            style=\"display:none;\">\n",
              "\n",
              "<svg xmlns=\"http://www.w3.org/2000/svg\" height=\"24px\"viewBox=\"0 0 24 24\"\n",
              "     width=\"24px\">\n",
              "    <g>\n",
              "        <path d=\"M19 3H5c-1.1 0-2 .9-2 2v14c0 1.1.9 2 2 2h14c1.1 0 2-.9 2-2V5c0-1.1-.9-2-2-2zM9 17H7v-7h2v7zm4 0h-2V7h2v10zm4 0h-2v-4h2v4z\"/>\n",
              "    </g>\n",
              "</svg>\n",
              "  </button>\n",
              "\n",
              "<style>\n",
              "  .colab-df-quickchart {\n",
              "      --bg-color: #E8F0FE;\n",
              "      --fill-color: #1967D2;\n",
              "      --hover-bg-color: #E2EBFA;\n",
              "      --hover-fill-color: #174EA6;\n",
              "      --disabled-fill-color: #AAA;\n",
              "      --disabled-bg-color: #DDD;\n",
              "  }\n",
              "\n",
              "  [theme=dark] .colab-df-quickchart {\n",
              "      --bg-color: #3B4455;\n",
              "      --fill-color: #D2E3FC;\n",
              "      --hover-bg-color: #434B5C;\n",
              "      --hover-fill-color: #FFFFFF;\n",
              "      --disabled-bg-color: #3B4455;\n",
              "      --disabled-fill-color: #666;\n",
              "  }\n",
              "\n",
              "  .colab-df-quickchart {\n",
              "    background-color: var(--bg-color);\n",
              "    border: none;\n",
              "    border-radius: 50%;\n",
              "    cursor: pointer;\n",
              "    display: none;\n",
              "    fill: var(--fill-color);\n",
              "    height: 32px;\n",
              "    padding: 0;\n",
              "    width: 32px;\n",
              "  }\n",
              "\n",
              "  .colab-df-quickchart:hover {\n",
              "    background-color: var(--hover-bg-color);\n",
              "    box-shadow: 0 1px 2px rgba(60, 64, 67, 0.3), 0 1px 3px 1px rgba(60, 64, 67, 0.15);\n",
              "    fill: var(--button-hover-fill-color);\n",
              "  }\n",
              "\n",
              "  .colab-df-quickchart-complete:disabled,\n",
              "  .colab-df-quickchart-complete:disabled:hover {\n",
              "    background-color: var(--disabled-bg-color);\n",
              "    fill: var(--disabled-fill-color);\n",
              "    box-shadow: none;\n",
              "  }\n",
              "\n",
              "  .colab-df-spinner {\n",
              "    border: 2px solid var(--fill-color);\n",
              "    border-color: transparent;\n",
              "    border-bottom-color: var(--fill-color);\n",
              "    animation:\n",
              "      spin 1s steps(1) infinite;\n",
              "  }\n",
              "\n",
              "  @keyframes spin {\n",
              "    0% {\n",
              "      border-color: transparent;\n",
              "      border-bottom-color: var(--fill-color);\n",
              "      border-left-color: var(--fill-color);\n",
              "    }\n",
              "    20% {\n",
              "      border-color: transparent;\n",
              "      border-left-color: var(--fill-color);\n",
              "      border-top-color: var(--fill-color);\n",
              "    }\n",
              "    30% {\n",
              "      border-color: transparent;\n",
              "      border-left-color: var(--fill-color);\n",
              "      border-top-color: var(--fill-color);\n",
              "      border-right-color: var(--fill-color);\n",
              "    }\n",
              "    40% {\n",
              "      border-color: transparent;\n",
              "      border-right-color: var(--fill-color);\n",
              "      border-top-color: var(--fill-color);\n",
              "    }\n",
              "    60% {\n",
              "      border-color: transparent;\n",
              "      border-right-color: var(--fill-color);\n",
              "    }\n",
              "    80% {\n",
              "      border-color: transparent;\n",
              "      border-right-color: var(--fill-color);\n",
              "      border-bottom-color: var(--fill-color);\n",
              "    }\n",
              "    90% {\n",
              "      border-color: transparent;\n",
              "      border-bottom-color: var(--fill-color);\n",
              "    }\n",
              "  }\n",
              "</style>\n",
              "\n",
              "  <script>\n",
              "    async function quickchart(key) {\n",
              "      const quickchartButtonEl =\n",
              "        document.querySelector('#' + key + ' button');\n",
              "      quickchartButtonEl.disabled = true;  // To prevent multiple clicks.\n",
              "      quickchartButtonEl.classList.add('colab-df-spinner');\n",
              "      try {\n",
              "        const charts = await google.colab.kernel.invokeFunction(\n",
              "            'suggestCharts', [key], {});\n",
              "      } catch (error) {\n",
              "        console.error('Error during call to suggestCharts:', error);\n",
              "      }\n",
              "      quickchartButtonEl.classList.remove('colab-df-spinner');\n",
              "      quickchartButtonEl.classList.add('colab-df-quickchart-complete');\n",
              "    }\n",
              "    (() => {\n",
              "      let quickchartButtonEl =\n",
              "        document.querySelector('#df-820c85ef-ad93-4daf-9c6e-09a5c2941fdf button');\n",
              "      quickchartButtonEl.style.display =\n",
              "        google.colab.kernel.accessAllowed ? 'block' : 'none';\n",
              "    })();\n",
              "  </script>\n",
              "</div>\n",
              "    </div>\n",
              "  </div>\n"
            ]
          },
          "metadata": {},
          "execution_count": 105
        }
      ]
    },
    {
      "cell_type": "code",
      "source": [
        "%%time\n",
        "acc_scores = []\n",
        "for kk in range(1, X.shape[1]+1):\n",
        "    FS_trans = SelectKBest(mutual_info_classif, k=kk).fit(X_train, y_train)\n",
        "    X_tR_new = FS_trans.transform(X_train)\n",
        "    X_tS_new = FS_trans.transform(X_test)\n",
        "    hm_NB = mnb.fit(X_tR_new, y_train)\n",
        "    y_dash = hm_NB.predict(X_tS_new)\n",
        "    acc = accuracy_score(y_test, y_dash)\n",
        "    acc_scores.append(acc)\n",
        "\n",
        "df_i['Accuracy'] = acc_scores\n",
        "df_i.head(10)"
      ],
      "metadata": {
        "colab": {
          "base_uri": "https://localhost:8080/",
          "height": 397
        },
        "id": "OSqbY7W-eevv",
        "outputId": "7a2695e7-77eb-458c-bbe0-4ced60f72aac"
      },
      "execution_count": null,
      "outputs": [
        {
          "output_type": "stream",
          "name": "stdout",
          "text": [
            "CPU times: user 16.8 s, sys: 0 ns, total: 16.8 s\n",
            "Wall time: 16.8 s\n"
          ]
        },
        {
          "output_type": "execute_result",
          "data": {
            "text/plain": [
              "                                    I-Gain  Accuracy\n",
              "masa_corporal                     0.322328  0.769759\n",
              "peso                              0.230584  0.766323\n",
              "medida_cintura                    0.209786  0.792669\n",
              "edad                              0.126717  0.788087\n",
              "segundamedicion_estatura          0.122927  0.768614\n",
              "circunferencia_de_la_pantorrilla  0.111001  0.766323\n",
              "segundamedicion_peso              0.110009  0.768614\n",
              "estatura                          0.106296  0.768614\n",
              "segundamedicion_cintura           0.106138  0.768614\n",
              "distancia_rodilla_talon           0.105858  0.768614"
            ],
            "text/html": [
              "\n",
              "  <div id=\"df-c55eb337-0e66-4422-b132-54515ebb5ad7\" class=\"colab-df-container\">\n",
              "    <div>\n",
              "<style scoped>\n",
              "    .dataframe tbody tr th:only-of-type {\n",
              "        vertical-align: middle;\n",
              "    }\n",
              "\n",
              "    .dataframe tbody tr th {\n",
              "        vertical-align: top;\n",
              "    }\n",
              "\n",
              "    .dataframe thead th {\n",
              "        text-align: right;\n",
              "    }\n",
              "</style>\n",
              "<table border=\"1\" class=\"dataframe\">\n",
              "  <thead>\n",
              "    <tr style=\"text-align: right;\">\n",
              "      <th></th>\n",
              "      <th>I-Gain</th>\n",
              "      <th>Accuracy</th>\n",
              "    </tr>\n",
              "  </thead>\n",
              "  <tbody>\n",
              "    <tr>\n",
              "      <th>masa_corporal</th>\n",
              "      <td>0.322328</td>\n",
              "      <td>0.769759</td>\n",
              "    </tr>\n",
              "    <tr>\n",
              "      <th>peso</th>\n",
              "      <td>0.230584</td>\n",
              "      <td>0.766323</td>\n",
              "    </tr>\n",
              "    <tr>\n",
              "      <th>medida_cintura</th>\n",
              "      <td>0.209786</td>\n",
              "      <td>0.792669</td>\n",
              "    </tr>\n",
              "    <tr>\n",
              "      <th>edad</th>\n",
              "      <td>0.126717</td>\n",
              "      <td>0.788087</td>\n",
              "    </tr>\n",
              "    <tr>\n",
              "      <th>segundamedicion_estatura</th>\n",
              "      <td>0.122927</td>\n",
              "      <td>0.768614</td>\n",
              "    </tr>\n",
              "    <tr>\n",
              "      <th>circunferencia_de_la_pantorrilla</th>\n",
              "      <td>0.111001</td>\n",
              "      <td>0.766323</td>\n",
              "    </tr>\n",
              "    <tr>\n",
              "      <th>segundamedicion_peso</th>\n",
              "      <td>0.110009</td>\n",
              "      <td>0.768614</td>\n",
              "    </tr>\n",
              "    <tr>\n",
              "      <th>estatura</th>\n",
              "      <td>0.106296</td>\n",
              "      <td>0.768614</td>\n",
              "    </tr>\n",
              "    <tr>\n",
              "      <th>segundamedicion_cintura</th>\n",
              "      <td>0.106138</td>\n",
              "      <td>0.768614</td>\n",
              "    </tr>\n",
              "    <tr>\n",
              "      <th>distancia_rodilla_talon</th>\n",
              "      <td>0.105858</td>\n",
              "      <td>0.768614</td>\n",
              "    </tr>\n",
              "  </tbody>\n",
              "</table>\n",
              "</div>\n",
              "    <div class=\"colab-df-buttons\">\n",
              "\n",
              "  <div class=\"colab-df-container\">\n",
              "    <button class=\"colab-df-convert\" onclick=\"convertToInteractive('df-c55eb337-0e66-4422-b132-54515ebb5ad7')\"\n",
              "            title=\"Convert this dataframe to an interactive table.\"\n",
              "            style=\"display:none;\">\n",
              "\n",
              "  <svg xmlns=\"http://www.w3.org/2000/svg\" height=\"24px\" viewBox=\"0 -960 960 960\">\n",
              "    <path d=\"M120-120v-720h720v720H120Zm60-500h600v-160H180v160Zm220 220h160v-160H400v160Zm0 220h160v-160H400v160ZM180-400h160v-160H180v160Zm440 0h160v-160H620v160ZM180-180h160v-160H180v160Zm440 0h160v-160H620v160Z\"/>\n",
              "  </svg>\n",
              "    </button>\n",
              "\n",
              "  <style>\n",
              "    .colab-df-container {\n",
              "      display:flex;\n",
              "      gap: 12px;\n",
              "    }\n",
              "\n",
              "    .colab-df-convert {\n",
              "      background-color: #E8F0FE;\n",
              "      border: none;\n",
              "      border-radius: 50%;\n",
              "      cursor: pointer;\n",
              "      display: none;\n",
              "      fill: #1967D2;\n",
              "      height: 32px;\n",
              "      padding: 0 0 0 0;\n",
              "      width: 32px;\n",
              "    }\n",
              "\n",
              "    .colab-df-convert:hover {\n",
              "      background-color: #E2EBFA;\n",
              "      box-shadow: 0px 1px 2px rgba(60, 64, 67, 0.3), 0px 1px 3px 1px rgba(60, 64, 67, 0.15);\n",
              "      fill: #174EA6;\n",
              "    }\n",
              "\n",
              "    .colab-df-buttons div {\n",
              "      margin-bottom: 4px;\n",
              "    }\n",
              "\n",
              "    [theme=dark] .colab-df-convert {\n",
              "      background-color: #3B4455;\n",
              "      fill: #D2E3FC;\n",
              "    }\n",
              "\n",
              "    [theme=dark] .colab-df-convert:hover {\n",
              "      background-color: #434B5C;\n",
              "      box-shadow: 0px 1px 3px 1px rgba(0, 0, 0, 0.15);\n",
              "      filter: drop-shadow(0px 1px 2px rgba(0, 0, 0, 0.3));\n",
              "      fill: #FFFFFF;\n",
              "    }\n",
              "  </style>\n",
              "\n",
              "    <script>\n",
              "      const buttonEl =\n",
              "        document.querySelector('#df-c55eb337-0e66-4422-b132-54515ebb5ad7 button.colab-df-convert');\n",
              "      buttonEl.style.display =\n",
              "        google.colab.kernel.accessAllowed ? 'block' : 'none';\n",
              "\n",
              "      async function convertToInteractive(key) {\n",
              "        const element = document.querySelector('#df-c55eb337-0e66-4422-b132-54515ebb5ad7');\n",
              "        const dataTable =\n",
              "          await google.colab.kernel.invokeFunction('convertToInteractive',\n",
              "                                                    [key], {});\n",
              "        if (!dataTable) return;\n",
              "\n",
              "        const docLinkHtml = 'Like what you see? Visit the ' +\n",
              "          '<a target=\"_blank\" href=https://colab.research.google.com/notebooks/data_table.ipynb>data table notebook</a>'\n",
              "          + ' to learn more about interactive tables.';\n",
              "        element.innerHTML = '';\n",
              "        dataTable['output_type'] = 'display_data';\n",
              "        await google.colab.output.renderOutput(dataTable, element);\n",
              "        const docLink = document.createElement('div');\n",
              "        docLink.innerHTML = docLinkHtml;\n",
              "        element.appendChild(docLink);\n",
              "      }\n",
              "    </script>\n",
              "  </div>\n",
              "\n",
              "\n",
              "<div id=\"df-121e4923-c84f-4c24-9ed0-e30b75d89852\">\n",
              "  <button class=\"colab-df-quickchart\" onclick=\"quickchart('df-121e4923-c84f-4c24-9ed0-e30b75d89852')\"\n",
              "            title=\"Suggest charts\"\n",
              "            style=\"display:none;\">\n",
              "\n",
              "<svg xmlns=\"http://www.w3.org/2000/svg\" height=\"24px\"viewBox=\"0 0 24 24\"\n",
              "     width=\"24px\">\n",
              "    <g>\n",
              "        <path d=\"M19 3H5c-1.1 0-2 .9-2 2v14c0 1.1.9 2 2 2h14c1.1 0 2-.9 2-2V5c0-1.1-.9-2-2-2zM9 17H7v-7h2v7zm4 0h-2V7h2v10zm4 0h-2v-4h2v4z\"/>\n",
              "    </g>\n",
              "</svg>\n",
              "  </button>\n",
              "\n",
              "<style>\n",
              "  .colab-df-quickchart {\n",
              "      --bg-color: #E8F0FE;\n",
              "      --fill-color: #1967D2;\n",
              "      --hover-bg-color: #E2EBFA;\n",
              "      --hover-fill-color: #174EA6;\n",
              "      --disabled-fill-color: #AAA;\n",
              "      --disabled-bg-color: #DDD;\n",
              "  }\n",
              "\n",
              "  [theme=dark] .colab-df-quickchart {\n",
              "      --bg-color: #3B4455;\n",
              "      --fill-color: #D2E3FC;\n",
              "      --hover-bg-color: #434B5C;\n",
              "      --hover-fill-color: #FFFFFF;\n",
              "      --disabled-bg-color: #3B4455;\n",
              "      --disabled-fill-color: #666;\n",
              "  }\n",
              "\n",
              "  .colab-df-quickchart {\n",
              "    background-color: var(--bg-color);\n",
              "    border: none;\n",
              "    border-radius: 50%;\n",
              "    cursor: pointer;\n",
              "    display: none;\n",
              "    fill: var(--fill-color);\n",
              "    height: 32px;\n",
              "    padding: 0;\n",
              "    width: 32px;\n",
              "  }\n",
              "\n",
              "  .colab-df-quickchart:hover {\n",
              "    background-color: var(--hover-bg-color);\n",
              "    box-shadow: 0 1px 2px rgba(60, 64, 67, 0.3), 0 1px 3px 1px rgba(60, 64, 67, 0.15);\n",
              "    fill: var(--button-hover-fill-color);\n",
              "  }\n",
              "\n",
              "  .colab-df-quickchart-complete:disabled,\n",
              "  .colab-df-quickchart-complete:disabled:hover {\n",
              "    background-color: var(--disabled-bg-color);\n",
              "    fill: var(--disabled-fill-color);\n",
              "    box-shadow: none;\n",
              "  }\n",
              "\n",
              "  .colab-df-spinner {\n",
              "    border: 2px solid var(--fill-color);\n",
              "    border-color: transparent;\n",
              "    border-bottom-color: var(--fill-color);\n",
              "    animation:\n",
              "      spin 1s steps(1) infinite;\n",
              "  }\n",
              "\n",
              "  @keyframes spin {\n",
              "    0% {\n",
              "      border-color: transparent;\n",
              "      border-bottom-color: var(--fill-color);\n",
              "      border-left-color: var(--fill-color);\n",
              "    }\n",
              "    20% {\n",
              "      border-color: transparent;\n",
              "      border-left-color: var(--fill-color);\n",
              "      border-top-color: var(--fill-color);\n",
              "    }\n",
              "    30% {\n",
              "      border-color: transparent;\n",
              "      border-left-color: var(--fill-color);\n",
              "      border-top-color: var(--fill-color);\n",
              "      border-right-color: var(--fill-color);\n",
              "    }\n",
              "    40% {\n",
              "      border-color: transparent;\n",
              "      border-right-color: var(--fill-color);\n",
              "      border-top-color: var(--fill-color);\n",
              "    }\n",
              "    60% {\n",
              "      border-color: transparent;\n",
              "      border-right-color: var(--fill-color);\n",
              "    }\n",
              "    80% {\n",
              "      border-color: transparent;\n",
              "      border-right-color: var(--fill-color);\n",
              "      border-bottom-color: var(--fill-color);\n",
              "    }\n",
              "    90% {\n",
              "      border-color: transparent;\n",
              "      border-bottom-color: var(--fill-color);\n",
              "    }\n",
              "  }\n",
              "</style>\n",
              "\n",
              "  <script>\n",
              "    async function quickchart(key) {\n",
              "      const quickchartButtonEl =\n",
              "        document.querySelector('#' + key + ' button');\n",
              "      quickchartButtonEl.disabled = true;  // To prevent multiple clicks.\n",
              "      quickchartButtonEl.classList.add('colab-df-spinner');\n",
              "      try {\n",
              "        const charts = await google.colab.kernel.invokeFunction(\n",
              "            'suggestCharts', [key], {});\n",
              "      } catch (error) {\n",
              "        console.error('Error during call to suggestCharts:', error);\n",
              "      }\n",
              "      quickchartButtonEl.classList.remove('colab-df-spinner');\n",
              "      quickchartButtonEl.classList.add('colab-df-quickchart-complete');\n",
              "    }\n",
              "    (() => {\n",
              "      let quickchartButtonEl =\n",
              "        document.querySelector('#df-121e4923-c84f-4c24-9ed0-e30b75d89852 button');\n",
              "      quickchartButtonEl.style.display =\n",
              "        google.colab.kernel.accessAllowed ? 'block' : 'none';\n",
              "    })();\n",
              "  </script>\n",
              "</div>\n",
              "    </div>\n",
              "  </div>\n"
            ]
          },
          "metadata": {},
          "execution_count": 28
        }
      ]
    },
    {
      "cell_type": "code",
      "source": [
        "df_i.index"
      ],
      "metadata": {
        "colab": {
          "base_uri": "https://localhost:8080/"
        },
        "id": "tDOzSo_NgMoY",
        "outputId": "75a4edb8-ab58-4b74-9f34-cae7ac645af7"
      },
      "execution_count": null,
      "outputs": [
        {
          "output_type": "execute_result",
          "data": {
            "text/plain": [
              "Index(['masa_corporal', 'peso', 'medida_cintura', 'edad',\n",
              "       'segundamedicion_estatura', 'circunferencia_de_la_pantorrilla',\n",
              "       'segundamedicion_peso', 'estatura', 'segundamedicion_cintura',\n",
              "       'distancia_rodilla_talon', 'actividad_total', 'tension_arterial',\n",
              "       'valor_trigliceridos', 'valor_folato', 'valor_acido_urico',\n",
              "       'valor_transferrina', 'resultado_glucosa_promedio', 'valor_ferritina',\n",
              "       'valor_colesterol_hdl', 'valor_vitamina_bdoce', 'sueno_horas',\n",
              "       'valor_insulina', 'valor_albumina', 'valor_creatina', 'sexo',\n",
              "       'valor_vitamina_d', 'valor_proteinac_reactiva',\n",
              "       'valor_hemoglobina_glucosilada', 'resultado_glucosa',\n",
              "       'valor_colesterol_total', 'valor_colesterol_ldl',\n",
              "       'temperatura_ambiente', 'concentracion_hemoglobina',\n",
              "       'valor_homocisteina'],\n",
              "      dtype='object')"
            ]
          },
          "metadata": {},
          "execution_count": 31
        }
      ]
    },
    {
      "cell_type": "code",
      "source": [
        "#feature ที่มีคะแนน i-gain  จากสูงสุด(ตัวแรก)ไปต่ำสุด(ตัวท้าย)\n",
        "ig = ['masa_corporal', 'peso', 'medida_cintura', 'edad',\n",
        "       'segundamedicion_estatura', 'circunferencia_de_la_pantorrilla',\n",
        "       'segundamedicion_peso', 'estatura', 'segundamedicion_cintura',\n",
        "       'distancia_rodilla_talon', 'actividad_total', 'tension_arterial',\n",
        "       'valor_trigliceridos', 'valor_folato', 'valor_acido_urico',\n",
        "       'valor_transferrina', 'resultado_glucosa_promedio', 'valor_ferritina',\n",
        "       'valor_colesterol_hdl', 'valor_vitamina_bdoce', 'sueno_horas',\n",
        "       'valor_insulina', 'valor_albumina', 'valor_creatina', 'sexo',\n",
        "       'valor_vitamina_d', 'valor_proteinac_reactiva',\n",
        "       'valor_hemoglobina_glucosilada', 'resultado_glucosa',\n",
        "       'valor_colesterol_total', 'valor_colesterol_ldl',\n",
        "       'temperatura_ambiente', 'concentracion_hemoglobina',\n",
        "       'valor_homocisteina']"
      ],
      "metadata": {
        "id": "FDnYsDtVyc9C"
      },
      "execution_count": null,
      "outputs": []
    },
    {
      "cell_type": "code",
      "source": [
        "stratified_kfold = StratifiedKFold(n_splits=5, shuffle=True, random_state=42)"
      ],
      "metadata": {
        "id": "ue2tJsulqQVv"
      },
      "execution_count": null,
      "outputs": []
    },
    {
      "cell_type": "code",
      "source": [
        "# พบว่าหลังเพิ่ม feature ลำดับที่ 22 ไป คะแนนก็ไม่ดีขึ้นและตกลง\n",
        "# ยกเว้น random forest\n",
        "\n",
        "knn_score_list = []\n",
        "svm_score_list = []\n",
        "rf_score_list = []\n",
        "\n",
        "for i in range(len(ig)):\n",
        "  X_xf = X_train[ig[0:i+1]]\n",
        "  print(f'with {i+1} feature')\n",
        "\n",
        "  knn_model = KNeighborsClassifier(algorithm='auto', n_neighbors=8, weights = 'distance', p = 1)\n",
        "  knn_scores = cross_val_score(knn_model, X_xf, y_train, cv=stratified_kfold)\n",
        "\n",
        "\n",
        "  svm_model = make_pipeline(StandardScaler(), SVC(C = 3, gamma= 'scale', kernel= 'rbf'))\n",
        "  svm_scores = cross_val_score(svm_model, X_xf, y_train, cv=stratified_kfold)\n",
        "\n",
        "\n",
        "  rf_model = RandomForestClassifier(bootstrap = False,\n",
        "                                       max_depth = 20 ,\n",
        "                                       max_features = 20,\n",
        "                                       min_samples_leaf = 3,\n",
        "                                       min_samples_split = 10,\n",
        "                                       n_estimators=1000,\n",
        "                                       random_state=42)\n",
        "\n",
        "  rf_scores = cross_val_score(rf_model, X_xf, y_train, cv=stratified_kfold)\n",
        "\n",
        "  knn_score_list.append(np.mean(knn_scores))\n",
        "  svm_score_list.append(np.mean(svm_scores))\n",
        "  rf_score_list.append(np.mean(rf_scores))"
      ],
      "metadata": {
        "colab": {
          "base_uri": "https://localhost:8080/"
        },
        "id": "OlRx8AKUweqs",
        "outputId": "9f8fade9-36c2-42e2-a311-bcce368b97e5"
      },
      "execution_count": null,
      "outputs": [
        {
          "output_type": "stream",
          "name": "stdout",
          "text": [
            "with 1 feature\n",
            "with 2 feature\n",
            "with 3 feature\n",
            "with 4 feature\n",
            "with 5 feature\n",
            "with 6 feature\n",
            "with 7 feature\n",
            "with 8 feature\n",
            "with 9 feature\n",
            "with 10 feature\n",
            "with 11 feature\n",
            "with 12 feature\n",
            "with 13 feature\n",
            "with 14 feature\n",
            "with 15 feature\n",
            "with 16 feature\n",
            "with 17 feature\n",
            "with 18 feature\n",
            "with 19 feature\n",
            "with 20 feature\n",
            "with 21 feature\n",
            "with 22 feature\n",
            "with 23 feature\n",
            "with 24 feature\n",
            "with 25 feature\n",
            "with 26 feature\n",
            "with 27 feature\n",
            "with 28 feature\n",
            "with 29 feature\n",
            "with 30 feature\n",
            "with 31 feature\n",
            "with 32 feature\n",
            "with 33 feature\n",
            "with 34 feature\n"
          ]
        }
      ]
    },
    {
      "cell_type": "code",
      "source": [
        "knn_score_list"
      ],
      "metadata": {
        "colab": {
          "base_uri": "https://localhost:8080/"
        },
        "id": "OOXSQLLKAum1",
        "outputId": "331e36eb-7042-4caa-e169-650e179fa0d8"
      },
      "execution_count": null,
      "outputs": [
        {
          "output_type": "execute_result",
          "data": {
            "text/plain": [
              "[0.8722063037249284,\n",
              " 0.8790830945558741,\n",
              " 0.8507163323782235,\n",
              " 0.8595988538681949,\n",
              " 0.846704871060172,\n",
              " 0.8541547277936964,\n",
              " 0.854727793696275,\n",
              " 0.8670487106017191,\n",
              " 0.8693409742120345,\n",
              " 0.8702005730659026,\n",
              " 0.8902578796561604,\n",
              " 0.8925501432664756,\n",
              " 0.8911174785100286,\n",
              " 0.8916905444126074,\n",
              " 0.8922636103151863,\n",
              " 0.8925501432664756,\n",
              " 0.89054441260745,\n",
              " 0.8896848137535818,\n",
              " 0.8902578796561607,\n",
              " 0.8873925501432665,\n",
              " 0.8868194842406878,\n",
              " 0.8871060171919771,\n",
              " 0.8873925501432665,\n",
              " 0.8873925501432665,\n",
              " 0.8873925501432665,\n",
              " 0.8865329512893982,\n",
              " 0.8865329512893982,\n",
              " 0.8865329512893982,\n",
              " 0.8859598853868196,\n",
              " 0.8876790830945559,\n",
              " 0.8899713467048711,\n",
              " 0.8896848137535815,\n",
              " 0.8899713467048709,\n",
              " 0.8899713467048709]"
            ]
          },
          "metadata": {},
          "execution_count": 38
        }
      ]
    },
    {
      "cell_type": "code",
      "source": [
        "knn_score_list = [0.8722063037249284,\n",
        " 0.8790830945558741,\n",
        " 0.8507163323782235,\n",
        " 0.8595988538681949,\n",
        " 0.846704871060172,\n",
        " 0.8541547277936964,\n",
        " 0.854727793696275,\n",
        " 0.8670487106017191,\n",
        " 0.8693409742120345,\n",
        " 0.8702005730659026,\n",
        " 0.8902578796561604,\n",
        " 0.8925501432664756,\n",
        " 0.8911174785100286,\n",
        " 0.8916905444126074,\n",
        " 0.8922636103151863,\n",
        " 0.8925501432664756,\n",
        " 0.89054441260745,\n",
        " 0.8896848137535818,\n",
        " 0.8902578796561607,\n",
        " 0.8873925501432665,\n",
        " 0.8868194842406878,\n",
        " 0.8871060171919771,\n",
        " 0.8873925501432665,\n",
        " 0.8873925501432665,\n",
        " 0.8873925501432665,\n",
        " 0.8865329512893982,\n",
        " 0.8865329512893982,\n",
        " 0.8865329512893982,\n",
        " 0.8859598853868196,\n",
        " 0.8876790830945559,\n",
        " 0.8899713467048711,\n",
        " 0.8896848137535815,\n",
        " 0.8899713467048709,\n",
        " 0.8899713467048709]"
      ],
      "metadata": {
        "id": "j8Vh83kkriGt"
      },
      "execution_count": null,
      "outputs": []
    },
    {
      "cell_type": "code",
      "source": [
        "svm_score_list"
      ],
      "metadata": {
        "colab": {
          "base_uri": "https://localhost:8080/"
        },
        "id": "coDGlsf0A0-w",
        "outputId": "a7b4ddc2-c913-457a-c561-d118a869b4b2"
      },
      "execution_count": null,
      "outputs": [
        {
          "output_type": "execute_result",
          "data": {
            "text/plain": [
              "[0.8787965616045845,\n",
              " 0.873352435530086,\n",
              " 0.8704871060171919,\n",
              " 0.8690544412607449,\n",
              " 0.8684813753581662,\n",
              " 0.8673352435530086,\n",
              " 0.866189111747851,\n",
              " 0.8659025787965616,\n",
              " 0.8656160458452721,\n",
              " 0.8653295128939827,\n",
              " 0.8747851002865328,\n",
              " 0.873352435530086,\n",
              " 0.8742120343839541,\n",
              " 0.871919770773639,\n",
              " 0.8684813753581662,\n",
              " 0.8664756446991404,\n",
              " 0.865329512893983,\n",
              " 0.8636103151862464,\n",
              " 0.8593123209169053,\n",
              " 0.8581661891117479,\n",
              " 0.8581661891117479,\n",
              " 0.8578796561604584,\n",
              " 0.8567335243553009,\n",
              " 0.8587392550143267,\n",
              " 0.8593123209169053,\n",
              " 0.8570200573065904,\n",
              " 0.8581661891117477,\n",
              " 0.8558739255014327,\n",
              " 0.8555873925501434,\n",
              " 0.859025787965616,\n",
              " 0.8613180515759312,\n",
              " 0.8604584527220631,\n",
              " 0.8616045845272206,\n",
              " 0.8604584527220631]"
            ]
          },
          "metadata": {},
          "execution_count": 39
        }
      ]
    },
    {
      "cell_type": "code",
      "source": [
        "rf_score_list"
      ],
      "metadata": {
        "colab": {
          "base_uri": "https://localhost:8080/"
        },
        "id": "KytNIyVKA2MB",
        "outputId": "ff765bfd-716e-4b6b-992b-8f8344266743"
      },
      "execution_count": null,
      "outputs": [
        {
          "output_type": "execute_result",
          "data": {
            "text/plain": [
              "[0.873352435530086,\n",
              " 0.857593123209169,\n",
              " 0.856160458452722,\n",
              " 0.8495702005730659,\n",
              " 0.8372492836676217,\n",
              " 0.8366762177650429,\n",
              " 0.8349570200573065,\n",
              " 0.8398280802292264,\n",
              " 0.8412607449856733,\n",
              " 0.8343839541547278,\n",
              " 0.9051575931232092,\n",
              " 0.9805157593123208,\n",
              " 0.9822349570200573,\n",
              " 0.9816618911174786,\n",
              " 0.9813753581661893,\n",
              " 0.9810888252148997,\n",
              " 0.9796561604584527,\n",
              " 0.9805157593123208,\n",
              " 0.981375358166189,\n",
              " 0.9819484240687679,\n",
              " 0.9810888252148997,\n",
              " 0.9825214899713467,\n",
              " 0.984240687679083,\n",
              " 0.9845272206303726,\n",
              " 0.9845272206303723,\n",
              " 0.9848137535816619,\n",
              " 0.9842406876790832,\n",
              " 0.9845272206303726,\n",
              " 0.9845272206303723,\n",
              " 0.9922636103151863,\n",
              " 0.9916905444126074,\n",
              " 0.9916905444126074,\n",
              " 0.9948424068767908,\n",
              " 0.9945558739255015]"
            ]
          },
          "metadata": {},
          "execution_count": 40
        }
      ]
    },
    {
      "cell_type": "code",
      "source": [
        "ann_score_list = []\n",
        "\n",
        "for i in range(len(ig)):\n",
        "  X_xf = X_train[ig[0:i+1]]\n",
        "  print(f'with {i+1} feature')\n",
        "\n",
        "  # สร้างและฝึกโมเดล CNN (Convolutional Neural Networks)\n",
        "  def create_ann_model():\n",
        "    model = Sequential()\n",
        "    # เพิ่มเลเยอร์ Convolutional\n",
        "    # input_dim : 34 จำนวนตาม colum ของ X (จำนวน feature ใน X)\n",
        "    model.add(Dense(units=10, input_dim=i+1, activation='relu'))\n",
        "\n",
        "    model.add(Dense(units=2, activation='softmax'))  # 3 คลาสใน output layer\n",
        "\n",
        "    # คอมไพล์โมเดล\n",
        "    model.compile(optimizer='adam', loss='sparse_categorical_crossentropy', metrics=['accuracy'])\n",
        "    return model\n",
        "\n",
        "  ann_model = KerasClassifier(build_fn=create_ann_model, epochs=100, batch_size=10, verbose=0)\n",
        "  ann_scores = cross_val_score(ann_model, X_xf, y_train, cv=stratified_kfold)\n",
        "\n",
        "  ann_score_list.append(np.mean(ann_scores))"
      ],
      "metadata": {
        "colab": {
          "base_uri": "https://localhost:8080/"
        },
        "id": "zjYKtgme44Lx",
        "outputId": "0fb455cd-fe70-4d42-bca2-6ca730a03ae5"
      },
      "execution_count": null,
      "outputs": [
        {
          "metadata": {
            "tags": null
          },
          "name": "stdout",
          "output_type": "stream",
          "text": [
            "with 1 feature\n"
          ]
        },
        {
          "metadata": {
            "tags": null
          },
          "name": "stderr",
          "output_type": "stream",
          "text": [
            "<ipython-input-47-853dd84e63cd>:20: DeprecationWarning: KerasClassifier is deprecated, use Sci-Keras (https://github.com/adriangb/scikeras) instead. See https://www.adriangb.com/scikeras/stable/migration.html for help migrating.\n",
            "  ann_model = KerasClassifier(build_fn=create_ann_model, epochs=100, batch_size=10, verbose=0)\n"
          ]
        },
        {
          "metadata": {
            "tags": null
          },
          "name": "stdout",
          "output_type": "stream",
          "text": [
            "with 2 feature\n"
          ]
        },
        {
          "metadata": {
            "tags": null
          },
          "name": "stderr",
          "output_type": "stream",
          "text": [
            "<ipython-input-47-853dd84e63cd>:20: DeprecationWarning: KerasClassifier is deprecated, use Sci-Keras (https://github.com/adriangb/scikeras) instead. See https://www.adriangb.com/scikeras/stable/migration.html for help migrating.\n",
            "  ann_model = KerasClassifier(build_fn=create_ann_model, epochs=100, batch_size=10, verbose=0)\n"
          ]
        },
        {
          "metadata": {
            "tags": null
          },
          "name": "stdout",
          "output_type": "stream",
          "text": [
            "with 3 feature\n"
          ]
        },
        {
          "metadata": {
            "tags": null
          },
          "name": "stderr",
          "output_type": "stream",
          "text": [
            "<ipython-input-47-853dd84e63cd>:20: DeprecationWarning: KerasClassifier is deprecated, use Sci-Keras (https://github.com/adriangb/scikeras) instead. See https://www.adriangb.com/scikeras/stable/migration.html for help migrating.\n",
            "  ann_model = KerasClassifier(build_fn=create_ann_model, epochs=100, batch_size=10, verbose=0)\n"
          ]
        },
        {
          "metadata": {
            "tags": null
          },
          "name": "stdout",
          "output_type": "stream",
          "text": [
            "with 4 feature\n"
          ]
        },
        {
          "metadata": {
            "tags": null
          },
          "name": "stderr",
          "output_type": "stream",
          "text": [
            "<ipython-input-47-853dd84e63cd>:20: DeprecationWarning: KerasClassifier is deprecated, use Sci-Keras (https://github.com/adriangb/scikeras) instead. See https://www.adriangb.com/scikeras/stable/migration.html for help migrating.\n",
            "  ann_model = KerasClassifier(build_fn=create_ann_model, epochs=100, batch_size=10, verbose=0)\n"
          ]
        },
        {
          "metadata": {
            "tags": null
          },
          "name": "stdout",
          "output_type": "stream",
          "text": [
            "with 5 feature\n"
          ]
        },
        {
          "metadata": {
            "tags": null
          },
          "name": "stderr",
          "output_type": "stream",
          "text": [
            "<ipython-input-47-853dd84e63cd>:20: DeprecationWarning: KerasClassifier is deprecated, use Sci-Keras (https://github.com/adriangb/scikeras) instead. See https://www.adriangb.com/scikeras/stable/migration.html for help migrating.\n",
            "  ann_model = KerasClassifier(build_fn=create_ann_model, epochs=100, batch_size=10, verbose=0)\n"
          ]
        },
        {
          "metadata": {
            "tags": null
          },
          "name": "stdout",
          "output_type": "stream",
          "text": [
            "with 6 feature\n"
          ]
        },
        {
          "metadata": {
            "tags": null
          },
          "name": "stderr",
          "output_type": "stream",
          "text": [
            "<ipython-input-47-853dd84e63cd>:20: DeprecationWarning: KerasClassifier is deprecated, use Sci-Keras (https://github.com/adriangb/scikeras) instead. See https://www.adriangb.com/scikeras/stable/migration.html for help migrating.\n",
            "  ann_model = KerasClassifier(build_fn=create_ann_model, epochs=100, batch_size=10, verbose=0)\n"
          ]
        },
        {
          "metadata": {
            "tags": null
          },
          "name": "stdout",
          "output_type": "stream",
          "text": [
            "with 7 feature\n"
          ]
        },
        {
          "metadata": {
            "tags": null
          },
          "name": "stderr",
          "output_type": "stream",
          "text": [
            "<ipython-input-47-853dd84e63cd>:20: DeprecationWarning: KerasClassifier is deprecated, use Sci-Keras (https://github.com/adriangb/scikeras) instead. See https://www.adriangb.com/scikeras/stable/migration.html for help migrating.\n",
            "  ann_model = KerasClassifier(build_fn=create_ann_model, epochs=100, batch_size=10, verbose=0)\n"
          ]
        },
        {
          "metadata": {
            "tags": null
          },
          "name": "stdout",
          "output_type": "stream",
          "text": [
            "with 8 feature\n"
          ]
        },
        {
          "metadata": {
            "tags": null
          },
          "name": "stderr",
          "output_type": "stream",
          "text": [
            "<ipython-input-47-853dd84e63cd>:20: DeprecationWarning: KerasClassifier is deprecated, use Sci-Keras (https://github.com/adriangb/scikeras) instead. See https://www.adriangb.com/scikeras/stable/migration.html for help migrating.\n",
            "  ann_model = KerasClassifier(build_fn=create_ann_model, epochs=100, batch_size=10, verbose=0)\n"
          ]
        },
        {
          "metadata": {
            "tags": null
          },
          "name": "stdout",
          "output_type": "stream",
          "text": [
            "with 9 feature\n"
          ]
        },
        {
          "metadata": {
            "tags": null
          },
          "name": "stderr",
          "output_type": "stream",
          "text": [
            "<ipython-input-47-853dd84e63cd>:20: DeprecationWarning: KerasClassifier is deprecated, use Sci-Keras (https://github.com/adriangb/scikeras) instead. See https://www.adriangb.com/scikeras/stable/migration.html for help migrating.\n",
            "  ann_model = KerasClassifier(build_fn=create_ann_model, epochs=100, batch_size=10, verbose=0)\n"
          ]
        },
        {
          "metadata": {
            "tags": null
          },
          "name": "stdout",
          "output_type": "stream",
          "text": [
            "with 10 feature\n"
          ]
        },
        {
          "metadata": {
            "tags": null
          },
          "name": "stderr",
          "output_type": "stream",
          "text": [
            "<ipython-input-47-853dd84e63cd>:20: DeprecationWarning: KerasClassifier is deprecated, use Sci-Keras (https://github.com/adriangb/scikeras) instead. See https://www.adriangb.com/scikeras/stable/migration.html for help migrating.\n",
            "  ann_model = KerasClassifier(build_fn=create_ann_model, epochs=100, batch_size=10, verbose=0)\n"
          ]
        },
        {
          "metadata": {
            "tags": null
          },
          "name": "stdout",
          "output_type": "stream",
          "text": [
            "with 11 feature\n"
          ]
        },
        {
          "metadata": {
            "tags": null
          },
          "name": "stderr",
          "output_type": "stream",
          "text": [
            "<ipython-input-47-853dd84e63cd>:20: DeprecationWarning: KerasClassifier is deprecated, use Sci-Keras (https://github.com/adriangb/scikeras) instead. See https://www.adriangb.com/scikeras/stable/migration.html for help migrating.\n",
            "  ann_model = KerasClassifier(build_fn=create_ann_model, epochs=100, batch_size=10, verbose=0)\n"
          ]
        },
        {
          "metadata": {
            "tags": null
          },
          "name": "stdout",
          "output_type": "stream",
          "text": [
            "with 12 feature\n"
          ]
        },
        {
          "metadata": {
            "tags": null
          },
          "name": "stderr",
          "output_type": "stream",
          "text": [
            "<ipython-input-47-853dd84e63cd>:20: DeprecationWarning: KerasClassifier is deprecated, use Sci-Keras (https://github.com/adriangb/scikeras) instead. See https://www.adriangb.com/scikeras/stable/migration.html for help migrating.\n",
            "  ann_model = KerasClassifier(build_fn=create_ann_model, epochs=100, batch_size=10, verbose=0)\n"
          ]
        },
        {
          "metadata": {
            "tags": null
          },
          "name": "stdout",
          "output_type": "stream",
          "text": [
            "with 13 feature\n"
          ]
        },
        {
          "metadata": {
            "tags": null
          },
          "name": "stderr",
          "output_type": "stream",
          "text": [
            "<ipython-input-47-853dd84e63cd>:20: DeprecationWarning: KerasClassifier is deprecated, use Sci-Keras (https://github.com/adriangb/scikeras) instead. See https://www.adriangb.com/scikeras/stable/migration.html for help migrating.\n",
            "  ann_model = KerasClassifier(build_fn=create_ann_model, epochs=100, batch_size=10, verbose=0)\n"
          ]
        },
        {
          "metadata": {
            "tags": null
          },
          "name": "stdout",
          "output_type": "stream",
          "text": [
            "with 14 feature\n"
          ]
        },
        {
          "metadata": {
            "tags": null
          },
          "name": "stderr",
          "output_type": "stream",
          "text": [
            "<ipython-input-47-853dd84e63cd>:20: DeprecationWarning: KerasClassifier is deprecated, use Sci-Keras (https://github.com/adriangb/scikeras) instead. See https://www.adriangb.com/scikeras/stable/migration.html for help migrating.\n",
            "  ann_model = KerasClassifier(build_fn=create_ann_model, epochs=100, batch_size=10, verbose=0)\n"
          ]
        },
        {
          "metadata": {
            "tags": null
          },
          "name": "stdout",
          "output_type": "stream",
          "text": [
            "with 15 feature\n"
          ]
        },
        {
          "metadata": {
            "tags": null
          },
          "name": "stderr",
          "output_type": "stream",
          "text": [
            "<ipython-input-47-853dd84e63cd>:20: DeprecationWarning: KerasClassifier is deprecated, use Sci-Keras (https://github.com/adriangb/scikeras) instead. See https://www.adriangb.com/scikeras/stable/migration.html for help migrating.\n",
            "  ann_model = KerasClassifier(build_fn=create_ann_model, epochs=100, batch_size=10, verbose=0)\n"
          ]
        },
        {
          "metadata": {
            "tags": null
          },
          "name": "stdout",
          "output_type": "stream",
          "text": [
            "with 16 feature\n"
          ]
        },
        {
          "metadata": {
            "tags": null
          },
          "name": "stderr",
          "output_type": "stream",
          "text": [
            "<ipython-input-47-853dd84e63cd>:20: DeprecationWarning: KerasClassifier is deprecated, use Sci-Keras (https://github.com/adriangb/scikeras) instead. See https://www.adriangb.com/scikeras/stable/migration.html for help migrating.\n",
            "  ann_model = KerasClassifier(build_fn=create_ann_model, epochs=100, batch_size=10, verbose=0)\n"
          ]
        },
        {
          "metadata": {
            "tags": null
          },
          "name": "stdout",
          "output_type": "stream",
          "text": [
            "with 17 feature\n"
          ]
        },
        {
          "metadata": {
            "tags": null
          },
          "name": "stderr",
          "output_type": "stream",
          "text": [
            "<ipython-input-47-853dd84e63cd>:20: DeprecationWarning: KerasClassifier is deprecated, use Sci-Keras (https://github.com/adriangb/scikeras) instead. See https://www.adriangb.com/scikeras/stable/migration.html for help migrating.\n",
            "  ann_model = KerasClassifier(build_fn=create_ann_model, epochs=100, batch_size=10, verbose=0)\n"
          ]
        },
        {
          "metadata": {
            "tags": null
          },
          "name": "stdout",
          "output_type": "stream",
          "text": [
            "with 18 feature\n"
          ]
        },
        {
          "metadata": {
            "tags": null
          },
          "name": "stderr",
          "output_type": "stream",
          "text": [
            "<ipython-input-47-853dd84e63cd>:20: DeprecationWarning: KerasClassifier is deprecated, use Sci-Keras (https://github.com/adriangb/scikeras) instead. See https://www.adriangb.com/scikeras/stable/migration.html for help migrating.\n",
            "  ann_model = KerasClassifier(build_fn=create_ann_model, epochs=100, batch_size=10, verbose=0)\n"
          ]
        },
        {
          "metadata": {
            "tags": null
          },
          "name": "stdout",
          "output_type": "stream",
          "text": [
            "with 19 feature\n"
          ]
        },
        {
          "metadata": {
            "tags": null
          },
          "name": "stderr",
          "output_type": "stream",
          "text": [
            "<ipython-input-47-853dd84e63cd>:20: DeprecationWarning: KerasClassifier is deprecated, use Sci-Keras (https://github.com/adriangb/scikeras) instead. See https://www.adriangb.com/scikeras/stable/migration.html for help migrating.\n",
            "  ann_model = KerasClassifier(build_fn=create_ann_model, epochs=100, batch_size=10, verbose=0)\n"
          ]
        },
        {
          "metadata": {
            "tags": null
          },
          "name": "stdout",
          "output_type": "stream",
          "text": [
            "with 20 feature\n"
          ]
        },
        {
          "metadata": {
            "tags": null
          },
          "name": "stderr",
          "output_type": "stream",
          "text": [
            "<ipython-input-47-853dd84e63cd>:20: DeprecationWarning: KerasClassifier is deprecated, use Sci-Keras (https://github.com/adriangb/scikeras) instead. See https://www.adriangb.com/scikeras/stable/migration.html for help migrating.\n",
            "  ann_model = KerasClassifier(build_fn=create_ann_model, epochs=100, batch_size=10, verbose=0)\n"
          ]
        },
        {
          "metadata": {
            "tags": null
          },
          "name": "stdout",
          "output_type": "stream",
          "text": [
            "with 21 feature\n"
          ]
        },
        {
          "metadata": {
            "tags": null
          },
          "name": "stderr",
          "output_type": "stream",
          "text": [
            "<ipython-input-47-853dd84e63cd>:20: DeprecationWarning: KerasClassifier is deprecated, use Sci-Keras (https://github.com/adriangb/scikeras) instead. See https://www.adriangb.com/scikeras/stable/migration.html for help migrating.\n",
            "  ann_model = KerasClassifier(build_fn=create_ann_model, epochs=100, batch_size=10, verbose=0)\n"
          ]
        },
        {
          "metadata": {
            "tags": null
          },
          "name": "stdout",
          "output_type": "stream",
          "text": [
            "with 22 feature\n"
          ]
        },
        {
          "metadata": {
            "tags": null
          },
          "name": "stderr",
          "output_type": "stream",
          "text": [
            "<ipython-input-47-853dd84e63cd>:20: DeprecationWarning: KerasClassifier is deprecated, use Sci-Keras (https://github.com/adriangb/scikeras) instead. See https://www.adriangb.com/scikeras/stable/migration.html for help migrating.\n",
            "  ann_model = KerasClassifier(build_fn=create_ann_model, epochs=100, batch_size=10, verbose=0)\n"
          ]
        },
        {
          "metadata": {
            "tags": null
          },
          "name": "stdout",
          "output_type": "stream",
          "text": [
            "with 23 feature\n"
          ]
        },
        {
          "metadata": {
            "tags": null
          },
          "name": "stderr",
          "output_type": "stream",
          "text": [
            "<ipython-input-47-853dd84e63cd>:20: DeprecationWarning: KerasClassifier is deprecated, use Sci-Keras (https://github.com/adriangb/scikeras) instead. See https://www.adriangb.com/scikeras/stable/migration.html for help migrating.\n",
            "  ann_model = KerasClassifier(build_fn=create_ann_model, epochs=100, batch_size=10, verbose=0)\n"
          ]
        },
        {
          "metadata": {
            "tags": null
          },
          "name": "stdout",
          "output_type": "stream",
          "text": [
            "with 24 feature\n"
          ]
        },
        {
          "metadata": {
            "tags": null
          },
          "name": "stderr",
          "output_type": "stream",
          "text": [
            "<ipython-input-47-853dd84e63cd>:20: DeprecationWarning: KerasClassifier is deprecated, use Sci-Keras (https://github.com/adriangb/scikeras) instead. See https://www.adriangb.com/scikeras/stable/migration.html for help migrating.\n",
            "  ann_model = KerasClassifier(build_fn=create_ann_model, epochs=100, batch_size=10, verbose=0)\n"
          ]
        },
        {
          "output_type": "stream",
          "name": "stdout",
          "text": [
            "with 25 feature\n"
          ]
        },
        {
          "output_type": "stream",
          "name": "stderr",
          "text": [
            "<ipython-input-47-853dd84e63cd>:20: DeprecationWarning: KerasClassifier is deprecated, use Sci-Keras (https://github.com/adriangb/scikeras) instead. See https://www.adriangb.com/scikeras/stable/migration.html for help migrating.\n",
            "  ann_model = KerasClassifier(build_fn=create_ann_model, epochs=100, batch_size=10, verbose=0)\n"
          ]
        },
        {
          "output_type": "stream",
          "name": "stdout",
          "text": [
            "with 26 feature\n"
          ]
        },
        {
          "output_type": "stream",
          "name": "stderr",
          "text": [
            "<ipython-input-47-853dd84e63cd>:20: DeprecationWarning: KerasClassifier is deprecated, use Sci-Keras (https://github.com/adriangb/scikeras) instead. See https://www.adriangb.com/scikeras/stable/migration.html for help migrating.\n",
            "  ann_model = KerasClassifier(build_fn=create_ann_model, epochs=100, batch_size=10, verbose=0)\n"
          ]
        },
        {
          "output_type": "stream",
          "name": "stdout",
          "text": [
            "with 27 feature\n"
          ]
        },
        {
          "output_type": "stream",
          "name": "stderr",
          "text": [
            "<ipython-input-47-853dd84e63cd>:20: DeprecationWarning: KerasClassifier is deprecated, use Sci-Keras (https://github.com/adriangb/scikeras) instead. See https://www.adriangb.com/scikeras/stable/migration.html for help migrating.\n",
            "  ann_model = KerasClassifier(build_fn=create_ann_model, epochs=100, batch_size=10, verbose=0)\n"
          ]
        },
        {
          "output_type": "stream",
          "name": "stdout",
          "text": [
            "with 28 feature\n"
          ]
        },
        {
          "output_type": "stream",
          "name": "stderr",
          "text": [
            "<ipython-input-47-853dd84e63cd>:20: DeprecationWarning: KerasClassifier is deprecated, use Sci-Keras (https://github.com/adriangb/scikeras) instead. See https://www.adriangb.com/scikeras/stable/migration.html for help migrating.\n",
            "  ann_model = KerasClassifier(build_fn=create_ann_model, epochs=100, batch_size=10, verbose=0)\n"
          ]
        },
        {
          "output_type": "stream",
          "name": "stdout",
          "text": [
            "with 29 feature\n"
          ]
        },
        {
          "output_type": "stream",
          "name": "stderr",
          "text": [
            "<ipython-input-47-853dd84e63cd>:20: DeprecationWarning: KerasClassifier is deprecated, use Sci-Keras (https://github.com/adriangb/scikeras) instead. See https://www.adriangb.com/scikeras/stable/migration.html for help migrating.\n",
            "  ann_model = KerasClassifier(build_fn=create_ann_model, epochs=100, batch_size=10, verbose=0)\n"
          ]
        },
        {
          "output_type": "stream",
          "name": "stdout",
          "text": [
            "with 30 feature\n"
          ]
        },
        {
          "output_type": "stream",
          "name": "stderr",
          "text": [
            "<ipython-input-47-853dd84e63cd>:20: DeprecationWarning: KerasClassifier is deprecated, use Sci-Keras (https://github.com/adriangb/scikeras) instead. See https://www.adriangb.com/scikeras/stable/migration.html for help migrating.\n",
            "  ann_model = KerasClassifier(build_fn=create_ann_model, epochs=100, batch_size=10, verbose=0)\n"
          ]
        },
        {
          "output_type": "stream",
          "name": "stdout",
          "text": [
            "with 31 feature\n"
          ]
        },
        {
          "output_type": "stream",
          "name": "stderr",
          "text": [
            "<ipython-input-47-853dd84e63cd>:20: DeprecationWarning: KerasClassifier is deprecated, use Sci-Keras (https://github.com/adriangb/scikeras) instead. See https://www.adriangb.com/scikeras/stable/migration.html for help migrating.\n",
            "  ann_model = KerasClassifier(build_fn=create_ann_model, epochs=100, batch_size=10, verbose=0)\n"
          ]
        },
        {
          "output_type": "stream",
          "name": "stdout",
          "text": [
            "with 32 feature\n"
          ]
        },
        {
          "output_type": "stream",
          "name": "stderr",
          "text": [
            "<ipython-input-47-853dd84e63cd>:20: DeprecationWarning: KerasClassifier is deprecated, use Sci-Keras (https://github.com/adriangb/scikeras) instead. See https://www.adriangb.com/scikeras/stable/migration.html for help migrating.\n",
            "  ann_model = KerasClassifier(build_fn=create_ann_model, epochs=100, batch_size=10, verbose=0)\n"
          ]
        },
        {
          "output_type": "stream",
          "name": "stdout",
          "text": [
            "with 33 feature\n"
          ]
        },
        {
          "output_type": "stream",
          "name": "stderr",
          "text": [
            "<ipython-input-47-853dd84e63cd>:20: DeprecationWarning: KerasClassifier is deprecated, use Sci-Keras (https://github.com/adriangb/scikeras) instead. See https://www.adriangb.com/scikeras/stable/migration.html for help migrating.\n",
            "  ann_model = KerasClassifier(build_fn=create_ann_model, epochs=100, batch_size=10, verbose=0)\n"
          ]
        },
        {
          "output_type": "stream",
          "name": "stdout",
          "text": [
            "with 34 feature\n"
          ]
        },
        {
          "output_type": "stream",
          "name": "stderr",
          "text": [
            "<ipython-input-47-853dd84e63cd>:20: DeprecationWarning: KerasClassifier is deprecated, use Sci-Keras (https://github.com/adriangb/scikeras) instead. See https://www.adriangb.com/scikeras/stable/migration.html for help migrating.\n",
            "  ann_model = KerasClassifier(build_fn=create_ann_model, epochs=100, batch_size=10, verbose=0)\n"
          ]
        }
      ]
    },
    {
      "cell_type": "code",
      "source": [
        "ann_score_list"
      ],
      "metadata": {
        "colab": {
          "base_uri": "https://localhost:8080/"
        },
        "id": "A0EZD6-oBFO1",
        "outputId": "fe727d21-d68e-45db-823e-8bc856e9d895"
      },
      "execution_count": null,
      "outputs": [
        {
          "data": {
            "text/plain": [
              "[array([0.86962754, 0.85816622, 0.83954155, 0.86819482, 0.85816622]),\n",
              " array([0.82808024, 0.88825214, 0.87106019, 0.83094555, 0.83667624]),\n",
              " array([0.85530084, 0.86676216, 0.85386819, 0.81661892, 0.68767911]),\n",
              " array([0.83094555, 0.83524358, 0.84383953, 0.82091689, 0.80659026]),\n",
              " array([0.87392551, 0.85530084, 0.88252151, 0.85530084, 0.8381089 ]),\n",
              " array([0.85816622, 0.85959888, 0.87822348, 0.84097421, 0.86389685]),\n",
              " array([0.85816622, 0.8137536 , 0.87392551, 0.83094555, 0.78939825]),\n",
              " array([0.64469916, 0.7879656 , 0.66905445, 0.85100287, 0.8567335 ]),\n",
              " array([0.86962754, 0.70916903, 0.8653295 , 0.84813756, 0.84097421]),\n",
              " array([0.86246419, 0.86962754, 0.88538682, 0.84240687, 0.7965616 ]),\n",
              " array([0.89684814, 0.85816622, 0.89684814, 0.8051576 , 0.8381089 ]),\n",
              " array([0.85530084, 0.89684814, 0.8653295 , 0.8896848 , 0.89398283]),\n",
              " array([0.8982808 , 0.81948423, 0.88681948, 0.82808024, 0.87822348]),\n",
              " array([0.92120343, 0.88108885, 0.88681948, 0.82378221, 0.91547281]),\n",
              " array([0.89541548, 0.87392551, 0.87106019, 0.90257877, 0.90830946]),\n",
              " array([0.93839544, 0.87679082, 0.91547281, 0.87392551, 0.86819482]),\n",
              " array([0.91833812, 0.80372494, 0.94985676, 0.8982808 , 0.90830946]),\n",
              " array([0.86103153, 0.82664758, 0.91117477, 0.88681948, 0.91547281]),\n",
              " array([0.89541548, 0.89398283, 0.93409741, 0.82234955, 0.90114611]),\n",
              " array([0.90401149, 0.88681948, 0.88825214, 0.87249285, 0.86962754]),\n",
              " array([0.88825214, 0.69627506, 0.90974212, 0.87535816, 0.88538682]),\n",
              " array([0.87822348, 0.8653295 , 0.88538682, 0.86103153, 0.83237821]),\n",
              " array([0.84957021, 0.88681948, 0.86819482, 0.87822348, 0.91547281]),\n",
              " array([0.79942691, 0.88108885, 0.9068768 , 0.90544415, 0.77507162]),\n",
              " array([0.89111745, 0.83667624, 0.87249285, 0.89971346, 0.80659026]),\n",
              " array([0.91260743, 0.79942691, 0.91404009, 0.85100287, 0.84097421]),\n",
              " array([0.89398283, 0.84527218, 0.90257877, 0.7636103 , 0.92836678]),\n",
              " array([0.74212033, 0.89971346, 0.89255017, 0.87965614, 0.88395417]),\n",
              " array([0.8381089 , 0.89255017, 0.82951289, 0.86389685, 0.89111745]),\n",
              " array([0.87535816, 0.87249285, 0.91260743, 0.86962754, 0.82234955]),\n",
              " array([0.8896848 , 0.87679082, 0.8896848 , 0.81088823, 0.85386819]),\n",
              " array([0.8467049 , 0.82378221, 0.90257877, 0.87535816, 0.87679082]),\n",
              " array([0.87535816, 0.88681948, 0.90830946, 0.85530084, 0.89541548]),\n",
              " array([0.88252151, 0.89111745, 0.89971346, 0.87822348, 0.90257877])]"
            ]
          },
          "execution_count": 48,
          "metadata": {},
          "output_type": "execute_result"
        }
      ]
    },
    {
      "cell_type": "code",
      "source": [
        "len(ann_score_list)"
      ],
      "metadata": {
        "colab": {
          "base_uri": "https://localhost:8080/"
        },
        "id": "iKPh4yB7qxvv",
        "outputId": "81533276-bc33-441e-c3ee-3d767966efe8"
      },
      "execution_count": null,
      "outputs": [
        {
          "output_type": "execute_result",
          "data": {
            "text/plain": [
              "34"
            ]
          },
          "metadata": {},
          "execution_count": 11
        }
      ]
    },
    {
      "cell_type": "code",
      "source": [
        "ann_score_list2 = []\n",
        "for i in ann_score_list:\n",
        "  print(np.mean(i))\n",
        "  ann_score_list2.append(np.mean(i))"
      ],
      "metadata": {
        "colab": {
          "base_uri": "https://localhost:8080/"
        },
        "id": "jG8kRQn-qM9P",
        "outputId": "de9dbdb8-7100-4598-d30e-c3b174d8a9d5"
      },
      "execution_count": null,
      "outputs": [
        {
          "output_type": "stream",
          "name": "stdout",
          "text": [
            "0.85873927\n",
            "0.8510028719999999\n",
            "0.8160458440000001\n",
            "0.8275071620000001\n",
            "0.86103152\n",
            "0.860171928\n",
            "0.8332378259999998\n",
            "0.7618911159999999\n",
            "0.8266475679999999\n",
            "0.8512894039999999\n",
            "0.8590258000000001\n",
            "0.880229222\n",
            "0.8621776459999999\n",
            "0.8856733560000001\n",
            "0.890257882\n",
            "0.8945558799999999\n",
            "0.8957020159999999\n",
            "0.880229234\n",
            "0.889398276\n",
            "0.8842407\n",
            "0.85100286\n",
            "0.864469908\n",
            "0.87965616\n",
            "0.853581666\n",
            "0.861318052\n",
            "0.863610302\n",
            "0.8667621719999999\n",
            "0.859598854\n",
            "0.863037252\n",
            "0.870487106\n",
            "0.864183368\n",
            "0.865042972\n",
            "0.8842406839999999\n",
            "0.890830934\n"
          ]
        }
      ]
    },
    {
      "cell_type": "code",
      "source": [
        "d = {'knn_scores' : knn_score_list,\n",
        "    'svm_scores' : svm_score_list,\n",
        "    'rf_scores' : rf_score_list,\n",
        "    'ann_score' : ann_score_list2}\n",
        "i = [i for i in range(1,34+1)]"
      ],
      "metadata": {
        "id": "l7gZQ1rOsKtx"
      },
      "execution_count": null,
      "outputs": []
    },
    {
      "cell_type": "code",
      "source": [
        "score_on_feature_num = pd.DataFrame(data=d, index=i)\n"
      ],
      "metadata": {
        "id": "LPJDTHAP_RGE"
      },
      "execution_count": null,
      "outputs": []
    },
    {
      "cell_type": "code",
      "source": [
        "score_on_feature_num"
      ],
      "metadata": {
        "colab": {
          "base_uri": "https://localhost:8080/",
          "height": 1000
        },
        "id": "aPN-2pgVtH3E",
        "outputId": "67d74a2e-c834-4c68-eda9-7b36e13fe9c4"
      },
      "execution_count": null,
      "outputs": [
        {
          "output_type": "execute_result",
          "data": {
            "text/plain": [
              "    knn_scores  svm_scores  rf_scores  ann_score\n",
              "1     0.872206    0.878797   0.873352   0.858739\n",
              "2     0.879083    0.873352   0.857593   0.851003\n",
              "3     0.850716    0.870487   0.856160   0.816046\n",
              "4     0.859599    0.869054   0.849570   0.827507\n",
              "5     0.846705    0.868481   0.837249   0.861032\n",
              "6     0.854155    0.867335   0.836676   0.860172\n",
              "7     0.854728    0.866189   0.834957   0.833238\n",
              "8     0.867049    0.865903   0.839828   0.761891\n",
              "9     0.869341    0.865616   0.841261   0.826648\n",
              "10    0.870201    0.865330   0.834384   0.851289\n",
              "11    0.890258    0.874785   0.905158   0.859026\n",
              "12    0.892550    0.873352   0.980516   0.880229\n",
              "13    0.891117    0.874212   0.982235   0.862178\n",
              "14    0.891691    0.871920   0.981662   0.885673\n",
              "15    0.892264    0.868481   0.981375   0.890258\n",
              "16    0.892550    0.866476   0.981089   0.894556\n",
              "17    0.890544    0.865330   0.979656   0.895702\n",
              "18    0.889685    0.863610   0.980516   0.880229\n",
              "19    0.890258    0.859312   0.981375   0.889398\n",
              "20    0.887393    0.858166   0.981948   0.884241\n",
              "21    0.886819    0.858166   0.981089   0.851003\n",
              "22    0.887106    0.857880   0.982521   0.864470\n",
              "23    0.887393    0.856734   0.984241   0.879656\n",
              "24    0.887393    0.858739   0.984527   0.853582\n",
              "25    0.887393    0.859312   0.984527   0.861318\n",
              "26    0.886533    0.857020   0.984814   0.863610\n",
              "27    0.886533    0.858166   0.984241   0.866762\n",
              "28    0.886533    0.855874   0.984527   0.859599\n",
              "29    0.885960    0.855587   0.984527   0.863037\n",
              "30    0.887679    0.859026   0.992264   0.870487\n",
              "31    0.889971    0.861318   0.991691   0.864183\n",
              "32    0.889685    0.860458   0.991691   0.865043\n",
              "33    0.889971    0.861605   0.994842   0.884241\n",
              "34    0.889971    0.860458   0.994556   0.890831"
            ],
            "text/html": [
              "\n",
              "  <div id=\"df-808959fc-9f91-4a90-aa15-43e85692ba71\" class=\"colab-df-container\">\n",
              "    <div>\n",
              "<style scoped>\n",
              "    .dataframe tbody tr th:only-of-type {\n",
              "        vertical-align: middle;\n",
              "    }\n",
              "\n",
              "    .dataframe tbody tr th {\n",
              "        vertical-align: top;\n",
              "    }\n",
              "\n",
              "    .dataframe thead th {\n",
              "        text-align: right;\n",
              "    }\n",
              "</style>\n",
              "<table border=\"1\" class=\"dataframe\">\n",
              "  <thead>\n",
              "    <tr style=\"text-align: right;\">\n",
              "      <th></th>\n",
              "      <th>knn_scores</th>\n",
              "      <th>svm_scores</th>\n",
              "      <th>rf_scores</th>\n",
              "      <th>ann_score</th>\n",
              "    </tr>\n",
              "  </thead>\n",
              "  <tbody>\n",
              "    <tr>\n",
              "      <th>1</th>\n",
              "      <td>0.872206</td>\n",
              "      <td>0.878797</td>\n",
              "      <td>0.873352</td>\n",
              "      <td>0.858739</td>\n",
              "    </tr>\n",
              "    <tr>\n",
              "      <th>2</th>\n",
              "      <td>0.879083</td>\n",
              "      <td>0.873352</td>\n",
              "      <td>0.857593</td>\n",
              "      <td>0.851003</td>\n",
              "    </tr>\n",
              "    <tr>\n",
              "      <th>3</th>\n",
              "      <td>0.850716</td>\n",
              "      <td>0.870487</td>\n",
              "      <td>0.856160</td>\n",
              "      <td>0.816046</td>\n",
              "    </tr>\n",
              "    <tr>\n",
              "      <th>4</th>\n",
              "      <td>0.859599</td>\n",
              "      <td>0.869054</td>\n",
              "      <td>0.849570</td>\n",
              "      <td>0.827507</td>\n",
              "    </tr>\n",
              "    <tr>\n",
              "      <th>5</th>\n",
              "      <td>0.846705</td>\n",
              "      <td>0.868481</td>\n",
              "      <td>0.837249</td>\n",
              "      <td>0.861032</td>\n",
              "    </tr>\n",
              "    <tr>\n",
              "      <th>6</th>\n",
              "      <td>0.854155</td>\n",
              "      <td>0.867335</td>\n",
              "      <td>0.836676</td>\n",
              "      <td>0.860172</td>\n",
              "    </tr>\n",
              "    <tr>\n",
              "      <th>7</th>\n",
              "      <td>0.854728</td>\n",
              "      <td>0.866189</td>\n",
              "      <td>0.834957</td>\n",
              "      <td>0.833238</td>\n",
              "    </tr>\n",
              "    <tr>\n",
              "      <th>8</th>\n",
              "      <td>0.867049</td>\n",
              "      <td>0.865903</td>\n",
              "      <td>0.839828</td>\n",
              "      <td>0.761891</td>\n",
              "    </tr>\n",
              "    <tr>\n",
              "      <th>9</th>\n",
              "      <td>0.869341</td>\n",
              "      <td>0.865616</td>\n",
              "      <td>0.841261</td>\n",
              "      <td>0.826648</td>\n",
              "    </tr>\n",
              "    <tr>\n",
              "      <th>10</th>\n",
              "      <td>0.870201</td>\n",
              "      <td>0.865330</td>\n",
              "      <td>0.834384</td>\n",
              "      <td>0.851289</td>\n",
              "    </tr>\n",
              "    <tr>\n",
              "      <th>11</th>\n",
              "      <td>0.890258</td>\n",
              "      <td>0.874785</td>\n",
              "      <td>0.905158</td>\n",
              "      <td>0.859026</td>\n",
              "    </tr>\n",
              "    <tr>\n",
              "      <th>12</th>\n",
              "      <td>0.892550</td>\n",
              "      <td>0.873352</td>\n",
              "      <td>0.980516</td>\n",
              "      <td>0.880229</td>\n",
              "    </tr>\n",
              "    <tr>\n",
              "      <th>13</th>\n",
              "      <td>0.891117</td>\n",
              "      <td>0.874212</td>\n",
              "      <td>0.982235</td>\n",
              "      <td>0.862178</td>\n",
              "    </tr>\n",
              "    <tr>\n",
              "      <th>14</th>\n",
              "      <td>0.891691</td>\n",
              "      <td>0.871920</td>\n",
              "      <td>0.981662</td>\n",
              "      <td>0.885673</td>\n",
              "    </tr>\n",
              "    <tr>\n",
              "      <th>15</th>\n",
              "      <td>0.892264</td>\n",
              "      <td>0.868481</td>\n",
              "      <td>0.981375</td>\n",
              "      <td>0.890258</td>\n",
              "    </tr>\n",
              "    <tr>\n",
              "      <th>16</th>\n",
              "      <td>0.892550</td>\n",
              "      <td>0.866476</td>\n",
              "      <td>0.981089</td>\n",
              "      <td>0.894556</td>\n",
              "    </tr>\n",
              "    <tr>\n",
              "      <th>17</th>\n",
              "      <td>0.890544</td>\n",
              "      <td>0.865330</td>\n",
              "      <td>0.979656</td>\n",
              "      <td>0.895702</td>\n",
              "    </tr>\n",
              "    <tr>\n",
              "      <th>18</th>\n",
              "      <td>0.889685</td>\n",
              "      <td>0.863610</td>\n",
              "      <td>0.980516</td>\n",
              "      <td>0.880229</td>\n",
              "    </tr>\n",
              "    <tr>\n",
              "      <th>19</th>\n",
              "      <td>0.890258</td>\n",
              "      <td>0.859312</td>\n",
              "      <td>0.981375</td>\n",
              "      <td>0.889398</td>\n",
              "    </tr>\n",
              "    <tr>\n",
              "      <th>20</th>\n",
              "      <td>0.887393</td>\n",
              "      <td>0.858166</td>\n",
              "      <td>0.981948</td>\n",
              "      <td>0.884241</td>\n",
              "    </tr>\n",
              "    <tr>\n",
              "      <th>21</th>\n",
              "      <td>0.886819</td>\n",
              "      <td>0.858166</td>\n",
              "      <td>0.981089</td>\n",
              "      <td>0.851003</td>\n",
              "    </tr>\n",
              "    <tr>\n",
              "      <th>22</th>\n",
              "      <td>0.887106</td>\n",
              "      <td>0.857880</td>\n",
              "      <td>0.982521</td>\n",
              "      <td>0.864470</td>\n",
              "    </tr>\n",
              "    <tr>\n",
              "      <th>23</th>\n",
              "      <td>0.887393</td>\n",
              "      <td>0.856734</td>\n",
              "      <td>0.984241</td>\n",
              "      <td>0.879656</td>\n",
              "    </tr>\n",
              "    <tr>\n",
              "      <th>24</th>\n",
              "      <td>0.887393</td>\n",
              "      <td>0.858739</td>\n",
              "      <td>0.984527</td>\n",
              "      <td>0.853582</td>\n",
              "    </tr>\n",
              "    <tr>\n",
              "      <th>25</th>\n",
              "      <td>0.887393</td>\n",
              "      <td>0.859312</td>\n",
              "      <td>0.984527</td>\n",
              "      <td>0.861318</td>\n",
              "    </tr>\n",
              "    <tr>\n",
              "      <th>26</th>\n",
              "      <td>0.886533</td>\n",
              "      <td>0.857020</td>\n",
              "      <td>0.984814</td>\n",
              "      <td>0.863610</td>\n",
              "    </tr>\n",
              "    <tr>\n",
              "      <th>27</th>\n",
              "      <td>0.886533</td>\n",
              "      <td>0.858166</td>\n",
              "      <td>0.984241</td>\n",
              "      <td>0.866762</td>\n",
              "    </tr>\n",
              "    <tr>\n",
              "      <th>28</th>\n",
              "      <td>0.886533</td>\n",
              "      <td>0.855874</td>\n",
              "      <td>0.984527</td>\n",
              "      <td>0.859599</td>\n",
              "    </tr>\n",
              "    <tr>\n",
              "      <th>29</th>\n",
              "      <td>0.885960</td>\n",
              "      <td>0.855587</td>\n",
              "      <td>0.984527</td>\n",
              "      <td>0.863037</td>\n",
              "    </tr>\n",
              "    <tr>\n",
              "      <th>30</th>\n",
              "      <td>0.887679</td>\n",
              "      <td>0.859026</td>\n",
              "      <td>0.992264</td>\n",
              "      <td>0.870487</td>\n",
              "    </tr>\n",
              "    <tr>\n",
              "      <th>31</th>\n",
              "      <td>0.889971</td>\n",
              "      <td>0.861318</td>\n",
              "      <td>0.991691</td>\n",
              "      <td>0.864183</td>\n",
              "    </tr>\n",
              "    <tr>\n",
              "      <th>32</th>\n",
              "      <td>0.889685</td>\n",
              "      <td>0.860458</td>\n",
              "      <td>0.991691</td>\n",
              "      <td>0.865043</td>\n",
              "    </tr>\n",
              "    <tr>\n",
              "      <th>33</th>\n",
              "      <td>0.889971</td>\n",
              "      <td>0.861605</td>\n",
              "      <td>0.994842</td>\n",
              "      <td>0.884241</td>\n",
              "    </tr>\n",
              "    <tr>\n",
              "      <th>34</th>\n",
              "      <td>0.889971</td>\n",
              "      <td>0.860458</td>\n",
              "      <td>0.994556</td>\n",
              "      <td>0.890831</td>\n",
              "    </tr>\n",
              "  </tbody>\n",
              "</table>\n",
              "</div>\n",
              "    <div class=\"colab-df-buttons\">\n",
              "\n",
              "  <div class=\"colab-df-container\">\n",
              "    <button class=\"colab-df-convert\" onclick=\"convertToInteractive('df-808959fc-9f91-4a90-aa15-43e85692ba71')\"\n",
              "            title=\"Convert this dataframe to an interactive table.\"\n",
              "            style=\"display:none;\">\n",
              "\n",
              "  <svg xmlns=\"http://www.w3.org/2000/svg\" height=\"24px\" viewBox=\"0 -960 960 960\">\n",
              "    <path d=\"M120-120v-720h720v720H120Zm60-500h600v-160H180v160Zm220 220h160v-160H400v160Zm0 220h160v-160H400v160ZM180-400h160v-160H180v160Zm440 0h160v-160H620v160ZM180-180h160v-160H180v160Zm440 0h160v-160H620v160Z\"/>\n",
              "  </svg>\n",
              "    </button>\n",
              "\n",
              "  <style>\n",
              "    .colab-df-container {\n",
              "      display:flex;\n",
              "      gap: 12px;\n",
              "    }\n",
              "\n",
              "    .colab-df-convert {\n",
              "      background-color: #E8F0FE;\n",
              "      border: none;\n",
              "      border-radius: 50%;\n",
              "      cursor: pointer;\n",
              "      display: none;\n",
              "      fill: #1967D2;\n",
              "      height: 32px;\n",
              "      padding: 0 0 0 0;\n",
              "      width: 32px;\n",
              "    }\n",
              "\n",
              "    .colab-df-convert:hover {\n",
              "      background-color: #E2EBFA;\n",
              "      box-shadow: 0px 1px 2px rgba(60, 64, 67, 0.3), 0px 1px 3px 1px rgba(60, 64, 67, 0.15);\n",
              "      fill: #174EA6;\n",
              "    }\n",
              "\n",
              "    .colab-df-buttons div {\n",
              "      margin-bottom: 4px;\n",
              "    }\n",
              "\n",
              "    [theme=dark] .colab-df-convert {\n",
              "      background-color: #3B4455;\n",
              "      fill: #D2E3FC;\n",
              "    }\n",
              "\n",
              "    [theme=dark] .colab-df-convert:hover {\n",
              "      background-color: #434B5C;\n",
              "      box-shadow: 0px 1px 3px 1px rgba(0, 0, 0, 0.15);\n",
              "      filter: drop-shadow(0px 1px 2px rgba(0, 0, 0, 0.3));\n",
              "      fill: #FFFFFF;\n",
              "    }\n",
              "  </style>\n",
              "\n",
              "    <script>\n",
              "      const buttonEl =\n",
              "        document.querySelector('#df-808959fc-9f91-4a90-aa15-43e85692ba71 button.colab-df-convert');\n",
              "      buttonEl.style.display =\n",
              "        google.colab.kernel.accessAllowed ? 'block' : 'none';\n",
              "\n",
              "      async function convertToInteractive(key) {\n",
              "        const element = document.querySelector('#df-808959fc-9f91-4a90-aa15-43e85692ba71');\n",
              "        const dataTable =\n",
              "          await google.colab.kernel.invokeFunction('convertToInteractive',\n",
              "                                                    [key], {});\n",
              "        if (!dataTable) return;\n",
              "\n",
              "        const docLinkHtml = 'Like what you see? Visit the ' +\n",
              "          '<a target=\"_blank\" href=https://colab.research.google.com/notebooks/data_table.ipynb>data table notebook</a>'\n",
              "          + ' to learn more about interactive tables.';\n",
              "        element.innerHTML = '';\n",
              "        dataTable['output_type'] = 'display_data';\n",
              "        await google.colab.output.renderOutput(dataTable, element);\n",
              "        const docLink = document.createElement('div');\n",
              "        docLink.innerHTML = docLinkHtml;\n",
              "        element.appendChild(docLink);\n",
              "      }\n",
              "    </script>\n",
              "  </div>\n",
              "\n",
              "\n",
              "<div id=\"df-93559e33-f4eb-4d5c-9530-22f2231a5b66\">\n",
              "  <button class=\"colab-df-quickchart\" onclick=\"quickchart('df-93559e33-f4eb-4d5c-9530-22f2231a5b66')\"\n",
              "            title=\"Suggest charts\"\n",
              "            style=\"display:none;\">\n",
              "\n",
              "<svg xmlns=\"http://www.w3.org/2000/svg\" height=\"24px\"viewBox=\"0 0 24 24\"\n",
              "     width=\"24px\">\n",
              "    <g>\n",
              "        <path d=\"M19 3H5c-1.1 0-2 .9-2 2v14c0 1.1.9 2 2 2h14c1.1 0 2-.9 2-2V5c0-1.1-.9-2-2-2zM9 17H7v-7h2v7zm4 0h-2V7h2v10zm4 0h-2v-4h2v4z\"/>\n",
              "    </g>\n",
              "</svg>\n",
              "  </button>\n",
              "\n",
              "<style>\n",
              "  .colab-df-quickchart {\n",
              "      --bg-color: #E8F0FE;\n",
              "      --fill-color: #1967D2;\n",
              "      --hover-bg-color: #E2EBFA;\n",
              "      --hover-fill-color: #174EA6;\n",
              "      --disabled-fill-color: #AAA;\n",
              "      --disabled-bg-color: #DDD;\n",
              "  }\n",
              "\n",
              "  [theme=dark] .colab-df-quickchart {\n",
              "      --bg-color: #3B4455;\n",
              "      --fill-color: #D2E3FC;\n",
              "      --hover-bg-color: #434B5C;\n",
              "      --hover-fill-color: #FFFFFF;\n",
              "      --disabled-bg-color: #3B4455;\n",
              "      --disabled-fill-color: #666;\n",
              "  }\n",
              "\n",
              "  .colab-df-quickchart {\n",
              "    background-color: var(--bg-color);\n",
              "    border: none;\n",
              "    border-radius: 50%;\n",
              "    cursor: pointer;\n",
              "    display: none;\n",
              "    fill: var(--fill-color);\n",
              "    height: 32px;\n",
              "    padding: 0;\n",
              "    width: 32px;\n",
              "  }\n",
              "\n",
              "  .colab-df-quickchart:hover {\n",
              "    background-color: var(--hover-bg-color);\n",
              "    box-shadow: 0 1px 2px rgba(60, 64, 67, 0.3), 0 1px 3px 1px rgba(60, 64, 67, 0.15);\n",
              "    fill: var(--button-hover-fill-color);\n",
              "  }\n",
              "\n",
              "  .colab-df-quickchart-complete:disabled,\n",
              "  .colab-df-quickchart-complete:disabled:hover {\n",
              "    background-color: var(--disabled-bg-color);\n",
              "    fill: var(--disabled-fill-color);\n",
              "    box-shadow: none;\n",
              "  }\n",
              "\n",
              "  .colab-df-spinner {\n",
              "    border: 2px solid var(--fill-color);\n",
              "    border-color: transparent;\n",
              "    border-bottom-color: var(--fill-color);\n",
              "    animation:\n",
              "      spin 1s steps(1) infinite;\n",
              "  }\n",
              "\n",
              "  @keyframes spin {\n",
              "    0% {\n",
              "      border-color: transparent;\n",
              "      border-bottom-color: var(--fill-color);\n",
              "      border-left-color: var(--fill-color);\n",
              "    }\n",
              "    20% {\n",
              "      border-color: transparent;\n",
              "      border-left-color: var(--fill-color);\n",
              "      border-top-color: var(--fill-color);\n",
              "    }\n",
              "    30% {\n",
              "      border-color: transparent;\n",
              "      border-left-color: var(--fill-color);\n",
              "      border-top-color: var(--fill-color);\n",
              "      border-right-color: var(--fill-color);\n",
              "    }\n",
              "    40% {\n",
              "      border-color: transparent;\n",
              "      border-right-color: var(--fill-color);\n",
              "      border-top-color: var(--fill-color);\n",
              "    }\n",
              "    60% {\n",
              "      border-color: transparent;\n",
              "      border-right-color: var(--fill-color);\n",
              "    }\n",
              "    80% {\n",
              "      border-color: transparent;\n",
              "      border-right-color: var(--fill-color);\n",
              "      border-bottom-color: var(--fill-color);\n",
              "    }\n",
              "    90% {\n",
              "      border-color: transparent;\n",
              "      border-bottom-color: var(--fill-color);\n",
              "    }\n",
              "  }\n",
              "</style>\n",
              "\n",
              "  <script>\n",
              "    async function quickchart(key) {\n",
              "      const quickchartButtonEl =\n",
              "        document.querySelector('#' + key + ' button');\n",
              "      quickchartButtonEl.disabled = true;  // To prevent multiple clicks.\n",
              "      quickchartButtonEl.classList.add('colab-df-spinner');\n",
              "      try {\n",
              "        const charts = await google.colab.kernel.invokeFunction(\n",
              "            'suggestCharts', [key], {});\n",
              "      } catch (error) {\n",
              "        console.error('Error during call to suggestCharts:', error);\n",
              "      }\n",
              "      quickchartButtonEl.classList.remove('colab-df-spinner');\n",
              "      quickchartButtonEl.classList.add('colab-df-quickchart-complete');\n",
              "    }\n",
              "    (() => {\n",
              "      let quickchartButtonEl =\n",
              "        document.querySelector('#df-93559e33-f4eb-4d5c-9530-22f2231a5b66 button');\n",
              "      quickchartButtonEl.style.display =\n",
              "        google.colab.kernel.accessAllowed ? 'block' : 'none';\n",
              "    })();\n",
              "  </script>\n",
              "</div>\n",
              "    </div>\n",
              "  </div>\n"
            ]
          },
          "metadata": {},
          "execution_count": 25
        }
      ]
    },
    {
      "cell_type": "code",
      "source": [
        "score_on_feature_num.index"
      ],
      "metadata": {
        "colab": {
          "base_uri": "https://localhost:8080/"
        },
        "id": "DJLSokN5tfcD",
        "outputId": "8e501927-ffaa-4e4e-e822-1acb441b4a7b"
      },
      "execution_count": null,
      "outputs": [
        {
          "output_type": "execute_result",
          "data": {
            "text/plain": [
              "Int64Index([ 1,  2,  3,  4,  5,  6,  7,  8,  9, 10, 11, 12, 13, 14, 15, 16, 17,\n",
              "            18, 19, 20, 21, 22, 23, 24, 25, 26, 27, 28, 29, 30, 31, 32, 33,\n",
              "            34],\n",
              "           dtype='int64')"
            ]
          },
          "metadata": {},
          "execution_count": 30
        }
      ]
    },
    {
      "cell_type": "code",
      "source": [
        "import numpy as np\n",
        "import matplotlib.pyplot as plt\n",
        "score_on_feature_num.plot()"
      ],
      "metadata": {
        "colab": {
          "base_uri": "https://localhost:8080/",
          "height": 448
        },
        "id": "jQFeQCTttNJ2",
        "outputId": "a434cd50-c197-45f6-f81f-05e3f2136e69"
      },
      "execution_count": null,
      "outputs": [
        {
          "output_type": "execute_result",
          "data": {
            "text/plain": [
              "<Axes: >"
            ]
          },
          "metadata": {},
          "execution_count": 37
        },
        {
          "output_type": "display_data",
          "data": {
            "text/plain": [
              "<Figure size 640x480 with 1 Axes>"
            ],
            "image/png": "[encoded data removed]"
          },
          "metadata": {}
        }
      ]
    },
    {
      "cell_type": "markdown",
      "source": [
        "#22 feature แรกที่ได้คะแนนสูงสุด ได้จากทำ i-gain ครั้งก่อน (ต่างกับที่รันไปเมื่อกี้หน่อย)"
      ],
      "metadata": {
        "id": "7E5NbGnM3-xG"
      }
    },
    {
      "cell_type": "code",
      "source": [
        "# เลือกfeature ได้จากทำ i-gain ครั้งก่อน\n",
        "ig_22f = ['masa_corporal', 'peso', 'medida_cintura', 'edad',\n",
        "       'segundamedicion_estatura', 'circunferencia_de_la_pantorrilla',\n",
        "       'segundamedicion_peso', 'estatura', 'segundamedicion_cintura',\n",
        "       'distancia_rodilla_talon', 'actividad_total', 'tension_arterial',\n",
        "       'valor_trigliceridos', 'valor_folato', 'valor_acido_urico',\n",
        "       'valor_transferrina', 'resultado_glucosa_promedio', 'valor_ferritina',\n",
        "       'valor_colesterol_hdl', 'valor_vitamina_bdoce', 'sueno_horas',\n",
        "       'valor_insulina']"
      ],
      "metadata": {
        "id": "tKO8W0BAuDtj"
      },
      "execution_count": null,
      "outputs": []
    },
    {
      "cell_type": "code",
      "source": [
        "# เอามาแค่ 22 feature ที่ได้คะแนน i-gain สูงสุด\n",
        "X = data[ig_22f]\n",
        "y = data['riesgo_hipertension']\n",
        "# แบ่งข้อมูลเป็นชุดฝึกและชุดทดสอบ\n",
        "X_train, X_test, y_train, y_test = train_test_split(X, y, test_size=0.2, random_state=42)"
      ],
      "metadata": {
        "id": "Yurlqhxx4v46"
      },
      "execution_count": null,
      "outputs": []
    },
    {
      "cell_type": "code",
      "source": [],
      "metadata": {
        "id": "T78dboizpfTF"
      },
      "execution_count": null,
      "outputs": []
    },
    {
      "cell_type": "markdown",
      "source": [
        "##หาการตั้งค่าโมเดลที่ดีที่สุด (model tunning)\n",
        "feature selection มีผลต่อการตั้งค่าโมเดล"
      ],
      "metadata": {
        "id": "qb4SGE2OHvmU"
      }
    },
    {
      "cell_type": "code",
      "source": [
        "# Define the hyperparameter grid\n",
        "svm_param_grid = {'C': [0.1,0.5,1,10,50,100,150], 'gamma': ['scale','auto',0.1,0.01,0.001,0.0001],'kernel': ['rbf']}\n",
        "\n",
        "rf_param_grid = {\n",
        "   'bootstrap': [True,False],\n",
        "   'max_depth': [22,50,75,None],\n",
        "   'max_features': [2, 3 , 4],\n",
        "   'min_samples_leaf': [3, 4, 5],\n",
        "   'min_samples_split': [8, 10, 12],\n",
        "   'n_estimators': [100, 200, 300, 1000]\n",
        "}\n",
        "\n",
        "knn_param_grid = {'n_neighbors': np.arange(1, 11),\n",
        "              'weights': ['uniform', 'distance'],\n",
        "              'algorithm': ['auto', 'ball_tree', 'kd_tree', 'brute'],\n",
        "              'p': [1, 2]}"
      ],
      "metadata": {
        "id": "fRKb_ES7OjQC"
      },
      "execution_count": null,
      "outputs": []
    },
    {
      "cell_type": "code",
      "source": [
        "from sklearn.model_selection import GridSearchCV"
      ],
      "metadata": {
        "id": "5G__-HQ7ZfJd"
      },
      "execution_count": null,
      "outputs": []
    },
    {
      "cell_type": "code",
      "source": [
        "stratified_kfold = StratifiedKFold(n_splits=5, shuffle=True, random_state=42)"
      ],
      "metadata": {
        "id": "lr963XlztZ2h"
      },
      "execution_count": null,
      "outputs": []
    },
    {
      "cell_type": "code",
      "source": [
        "knn_grid_22f = GridSearchCV(KNeighborsClassifier(), knn_param_grid, cv=stratified_kfold, scoring='accuracy',verbose = 5)\n",
        "knn_grid_22f.fit(X, y)\n",
        "#{'algorithm': 'auto', 'n_neighbors': 10, 'p': 1, 'weights': 'distance'}\n",
        "#0.8835679456056832"
      ],
      "metadata": {
        "id": "prPka0DkSjXf"
      },
      "execution_count": null,
      "outputs": []
    },
    {
      "cell_type": "code",
      "source": [
        "# ค่าที่ดีที่สุดสำหรับโมเดล knn\n",
        "print(knn_grid_22f.best_params_)\n",
        "print(knn_grid_22f.best_score_ )"
      ],
      "metadata": {
        "id": "xNhkrHuzTfWH"
      },
      "execution_count": null,
      "outputs": []
    },
    {
      "cell_type": "code",
      "source": [
        "svm_grid_22f = GridSearchCV(SVC(), svm_param_grid, cv=stratified_kfold, scoring='accuracy',verbose = 5)\n",
        "svm_grid_22f.fit(X,y)\n",
        "'''\n",
        " {'C': 150, 'gamma': 1e-05, 'kernel': 'rbf'}\n",
        " 0.9037338293556963\n",
        "'''"
      ],
      "metadata": {
        "id": "cdUCWiZ5mmCA"
      },
      "execution_count": null,
      "outputs": []
    },
    {
      "cell_type": "code",
      "source": [
        "# ค่าที่ดีที่สุดสำหรับโมเดล svm\n",
        "print(svm_grid_22f.best_params_)\n",
        "print(svm_grid_22f.best_score_ )"
      ],
      "metadata": {
        "colab": {
          "base_uri": "https://localhost:8080/"
        },
        "id": "Y5IabSoyTcC8",
        "outputId": "84fcea29-ff7b-4bc4-eacb-ccd3138b5b76"
      },
      "execution_count": null,
      "outputs": [
        {
          "output_type": "stream",
          "name": "stdout",
          "text": [
            "{'C': 10, 'gamma': 0.0001, 'kernel': 'rbf'}\n",
            "0.9002960896203117\n"
          ]
        }
      ]
    },
    {
      "cell_type": "code",
      "source": [
        "rf_grid_22f = GridSearchCV(RandomForestClassifier(), rf_param_grid, cv=stratified_kfold, scoring='accuracy',verbose = 5)\n",
        "rf_grid_22f.fit(X[], y)\n",
        "#{'bootstrap': True, 'max_depth': 22, 'max_features': 3, 'min_samples_leaf': 3, 'min_samples_split': 12, 'n_estimators': 100}\n",
        "#0.9869363262818289"
      ],
      "metadata": {
        "id": "W0Wf3_x_SjCJ"
      },
      "execution_count": null,
      "outputs": []
    },
    {
      "cell_type": "code",
      "source": [
        "# ค่าที่ดีที่สุดสำหรับโมเดล random forest\n",
        "print(rf_grid_22f.best_params_)\n",
        "print(rf_grid_22f.best_score_ )"
      ],
      "metadata": {
        "id": "sWY-R8OOThd-"
      },
      "execution_count": null,
      "outputs": []
    },
    {
      "cell_type": "code",
      "source": [
        "len(X.columns)"
      ],
      "metadata": {
        "colab": {
          "base_uri": "https://localhost:8080/"
        },
        "id": "B5Ou8rerN-mw",
        "outputId": "ed7376df-580e-4dac-d9db-5a65cb420364"
      },
      "execution_count": null,
      "outputs": [
        {
          "output_type": "execute_result",
          "data": {
            "text/plain": [
              "34"
            ]
          },
          "metadata": {},
          "execution_count": 204
        }
      ]
    },
    {
      "cell_type": "code",
      "source": [
        "cnn_grid_22f = GridSearchCV(cnn_model,cnn_parem_grid , cv=stratified_kfold , scoring='accuracy',verbose = 5)\n",
        "#{'batch_size': 10, 'epochs': 100, 'opti': 'adam', 'unit': 11}\n",
        "#0.8993831247307081\n",
        "cnn_grid_22f.fit(X,y)"
      ],
      "metadata": {
        "id": "OoryWS1yGVem"
      },
      "execution_count": null,
      "outputs": []
    },
    {
      "cell_type": "code",
      "source": [
        "# ค่าที่ดีที่สุดสำหรับโมเดล cnn\n",
        "print(cnn_grid_22f.best_params_)\n",
        "print(cnn_grid_22f.best_score_)"
      ],
      "metadata": {
        "id": "1_XGevIMJi8L"
      },
      "execution_count": null,
      "outputs": []
    },
    {
      "cell_type": "markdown",
      "source": [
        "#Test ใช้ค่าที่ได้จาก model tunning"
      ],
      "metadata": {
        "id": "4cN7X_EZ5BZP"
      }
    },
    {
      "cell_type": "code",
      "source": [
        "# สร้างและฝึกโมเดล Random Forest\n",
        "rf_model = RandomForestClassifier(bootstrap= True,\n",
        "                                  max_depth= 22,\n",
        "                                  max_features= 3,\n",
        "                                  min_samples_leaf= 3,\n",
        "                                  min_samples_split=12,\n",
        "                                  n_estimators=100,\n",
        "                                  random_state=42)\n",
        "rf_scores = cross_val_score(rf_model, X, y, cv=stratified_kfold)"
      ],
      "metadata": {
        "id": "lq7LS9bogUlm"
      },
      "execution_count": null,
      "outputs": []
    },
    {
      "cell_type": "code",
      "source": [
        "# สร้างและฝึกโมเดล SVM\n",
        "svm_model = make_pipeline(StandardScaler(), SVC(C= 150, gamma = 0.1, kernel = 'rbf'))\n",
        "svm_scores = cross_val_score(svm_model, X, y, cv=stratified_kfold)"
      ],
      "metadata": {
        "id": "qNIYc9F6tXwh"
      },
      "execution_count": null,
      "outputs": []
    },
    {
      "cell_type": "code",
      "source": [
        "# สร้างและฝึกโมเดล K-Nearest Neighbors\n",
        "knn_model = KNeighborsClassifier(algorithm= 'auto', n_neighbors=10, p= 1, weights='distance')\n",
        "knn_scores = cross_val_score(knn_model, X, y, cv=stratified_kfold)"
      ],
      "metadata": {
        "id": "BAVl7IDnsPVp"
      },
      "execution_count": null,
      "outputs": []
    },
    {
      "cell_type": "code",
      "source": [
        "# CNN\n",
        "def create_cnn_model():\n",
        "    model = Sequential()\n",
        "    # เพิ่มเลเยอร์ Convolutional\n",
        "    # Dense : เดิมเป็น 64 เปลี่ยนเป็น 10 node *กลัวนานเกิน ,\n",
        "    # input_dim : 34 จำนวนตาม colum ของ X (จำนวน feature ใน X)\n",
        "    model.add(Dense(units=11, input_dim=22, activation='relu'))\n",
        "\n",
        "    # Dense เคยตั้งเป็น5แล้ว cross_val ออกมาได้แค่ 0.8 กว่าๆ\n",
        "    model.add(Dense(units=3, activation='softmax'))  # 3 คลาสใน output layer\n",
        "\n",
        "    # คอมไพล์โมเดล\n",
        "    model.compile(optimizer='adam', loss='sparse_categorical_crossentropy', metrics=['accuracy'])\n",
        "    return model\n",
        "\n",
        "cnn_model = KerasClassifier(build_fn=create_cnn_model, epochs=100, batch_size=10, verbose=0)\n",
        "cnn_scores = cross_val_score(cnn_model, X.values, y.values, cv=stratified_kfold)"
      ],
      "metadata": {
        "id": "FgrBuJ5dAv05"
      },
      "execution_count": null,
      "outputs": []
    },
    {
      "cell_type": "markdown",
      "source": [
        "#ค่า accuracy ที่ได้หลังทำ feature selection และ model tunning"
      ],
      "metadata": {
        "id": "A5nEm8a4AX-v"
      }
    },
    {
      "cell_type": "code",
      "source": [
        "print(f'SVM Cross-Validation Scores: {np.mean(svm_scores)}')\n",
        "print(f'Random Forest Cross-Validation Scores: {np.mean(rf_scores)}')\n",
        "print(f'K-Nearest Neighbors Cross-Validation Scores: {np.mean(knn_scores)}')\n",
        "print(f'CNN Cross-Validation Scores: {np.mean(cnn_scores)}')"
      ],
      "metadata": {
        "colab": {
          "base_uri": "https://localhost:8080/"
        },
        "id": "4_cEiIg0zOwu",
        "outputId": "ddf9bff0-4742-4a4c-a41e-a3668bf218f6"
      },
      "execution_count": null,
      "outputs": [
        {
          "output_type": "stream",
          "name": "stdout",
          "text": [
            "SVM Cross-Validation Scores: 0.8828796094874786\n",
            "Random Forest Cross-Validation Scores: 0.9867048666939899\n",
            "K-Nearest Neighbors Cross-Validation Scores: 0.8835679456056832\n"
          ]
        }
      ]
    },
    {
      "cell_type": "code",
      "source": [
        "print(f'CNN Cross-Validation Scores: {np.mean(cnn_scores)}')"
      ],
      "metadata": {
        "colab": {
          "base_uri": "https://localhost:8080/"
        },
        "id": "7OcFMUL1sukX",
        "outputId": "995e9c1f-7bf7-4389-8725-f792797298af"
      },
      "execution_count": null,
      "outputs": [
        {
          "output_type": "stream",
          "name": "stderr",
          "text": [
            "<ipython-input-97-3ef8c47bd0a7>:2: DeprecationWarning: KerasClassifier is deprecated, use Sci-Keras (https://github.com/adriangb/scikeras) instead. See https://www.adriangb.com/scikeras/stable/migration.html for help migrating.\n",
            "  cnn_model = KerasClassifier(build_fn=create_cnn_model, epochs=100, batch_size=10, verbose=0)\n"
          ]
        },
        {
          "output_type": "stream",
          "name": "stdout",
          "text": [
            "CNN Cross-Validation Scores: 0.8922746181488037\n"
          ]
        }
      ]
    },
    {
      "cell_type": "markdown",
      "source": [
        "##Sequential Selection (ไม่ใช้)"
      ],
      "metadata": {
        "id": "0naa5sWuhL-d"
      }
    },
    {
      "cell_type": "code",
      "source": [
        "# feature selection\n",
        "from sklearn.neighbors import KNeighborsClassifier\n",
        "from mlxtend.feature_selection import SequentialFeatureSelector as SFS\n",
        "\n",
        "sfs_forward = SFS(knn,\n",
        "                  k_features=20,\n",
        "                  forward=False,\n",
        "                  floating=False,\n",
        "                  verbose=2,\n",
        "                  scoring='accuracy',\n",
        "                  cv=2, n_jobs = -1)\n",
        "\n",
        "sfs_forward = sfs_forward.fit(X_train, y_train)"
      ],
      "metadata": {
        "id": "MV9Q202ixLie"
      },
      "execution_count": null,
      "outputs": []
    },
    {
      "cell_type": "code",
      "source": [
        "rf_sfs_forward = SFS(rf,\n",
        "                  k_features=22,\n",
        "                  forward=False,\n",
        "                  floating=False,\n",
        "                  verbose=2,\n",
        "                  scoring='accuracy',\n",
        "                  cv=2, n_jobs = -1)\n",
        "\n",
        "rf_sfs_forward = rf_sfs_forward.fit(X_train, y_train)"
      ],
      "metadata": {
        "id": "AE4UOO3wVVap"
      },
      "execution_count": null,
      "outputs": []
    },
    {
      "cell_type": "code",
      "source": [
        "svm_sfs_forward = SFS(svm,\n",
        "                  k_features=22,\n",
        "                  forward=False,\n",
        "                  floating=False,\n",
        "                  verbose=2,\n",
        "                  scoring='accuracy',\n",
        "                  cv=2, n_jobs = -1)\n",
        "\n",
        "svm_sfs_forward = svm_sfs_forward.fit(X_train, y_train)"
      ],
      "metadata": {
        "id": "DqnKWKOdVV1U"
      },
      "execution_count": null,
      "outputs": []
    },
    {
      "cell_type": "code",
      "source": [
        "print(sfs_forward.k_feature_names_)\n",
        "print(sfs_forward.k_feature_idx_)"
      ],
      "metadata": {
        "colab": {
          "base_uri": "https://localhost:8080/"
        },
        "id": "V_-2CdI8HVJQ",
        "outputId": "8e466d6d-17c8-426d-c3f7-c333c5a87018"
      },
      "execution_count": null,
      "outputs": [
        {
          "output_type": "stream",
          "name": "stdout",
          "text": [
            "('sexo', 'concentracion_hemoglobina', 'temperatura_ambiente', 'valor_acido_urico', 'valor_albumina', 'valor_colesterol_ldl', 'valor_colesterol_total', 'valor_creatina', 'resultado_glucosa', 'valor_insulina', 'valor_hemoglobina_glucosilada', 'valor_folato', 'valor_homocisteina', 'valor_vitamina_d', 'peso', 'estatura', 'segundamedicion_peso', 'segundamedicion_estatura', 'distancia_rodilla_talon', 'tension_arterial', 'sueno_horas', 'masa_corporal')\n",
            "(0, 2, 3, 4, 5, 7, 8, 9, 10, 11, 14, 16, 17, 21, 22, 23, 25, 26, 27, 30, 31, 32)\n"
          ]
        }
      ]
    },
    {
      "cell_type": "code",
      "source": [
        "print(rf_sfs_forward.k_feature_names_)\n",
        "print(rf_sfs_forward.k_feature_idx_)"
      ],
      "metadata": {
        "id": "V68WPPWtVyCt",
        "colab": {
          "base_uri": "https://localhost:8080/"
        },
        "outputId": "b971aede-679a-455c-a008-2c5ba2eb86c8"
      },
      "execution_count": null,
      "outputs": [
        {
          "output_type": "stream",
          "name": "stdout",
          "text": [
            "('edad', 'concentracion_hemoglobina', 'temperatura_ambiente', 'valor_acido_urico', 'valor_colesterol_hdl', 'valor_colesterol_total', 'valor_creatina', 'valor_insulina', 'valor_trigliceridos', 'resultado_glucosa_promedio', 'valor_hemoglobina_glucosilada', 'valor_proteinac_reactiva', 'valor_transferrina', 'valor_vitamina_d', 'medida_cintura', 'segundamedicion_peso', 'segundamedicion_estatura', 'distancia_rodilla_talon', 'segundamedicion_cintura', 'tension_arterial', 'masa_corporal', 'actividad_total')\n",
            "(1, 2, 3, 4, 6, 8, 9, 11, 12, 13, 14, 18, 19, 21, 24, 25, 26, 27, 29, 30, 32, 33)\n"
          ]
        }
      ]
    },
    {
      "cell_type": "code",
      "source": [
        "print(svm_sfs_forward.k_feature_names_)\n",
        "print(svm_sfs_forward.k_feature_idx_)"
      ],
      "metadata": {
        "id": "9nDfqUBcV0WO",
        "colab": {
          "base_uri": "https://localhost:8080/"
        },
        "outputId": "5ebcf6b7-a8db-4d03-b28b-77c8f9dc09db"
      },
      "execution_count": null,
      "outputs": [
        {
          "output_type": "stream",
          "name": "stdout",
          "text": [
            "('sexo', 'edad', 'concentracion_hemoglobina', 'temperatura_ambiente', 'valor_acido_urico', 'valor_albumina', 'valor_colesterol_hdl', 'valor_colesterol_ldl', 'valor_colesterol_total', 'valor_creatina', 'resultado_glucosa', 'valor_insulina', 'resultado_glucosa_promedio', 'valor_hemoglobina_glucosilada', 'valor_folato', 'valor_homocisteina', 'valor_proteinac_reactiva', 'estatura', 'medida_cintura', 'segundamedicion_peso', 'circunferencia_de_la_pantorrilla', 'actividad_total')\n",
            "(0, 1, 2, 3, 4, 5, 6, 7, 8, 9, 10, 11, 13, 14, 16, 17, 18, 23, 24, 25, 28, 33)\n"
          ]
        }
      ]
    },
    {
      "cell_type": "code",
      "source": [
        "1 in list(svm_sfs_forward.k_feature_idx_)"
      ],
      "metadata": {
        "colab": {
          "base_uri": "https://localhost:8080/"
        },
        "id": "md1Nw1txby8A",
        "outputId": "ffc8c119-2aad-4dcb-b8d9-2e0b8dae5af6"
      },
      "execution_count": null,
      "outputs": [
        {
          "output_type": "execute_result",
          "data": {
            "text/plain": [
              "True"
            ]
          },
          "metadata": {},
          "execution_count": 22
        }
      ]
    },
    {
      "cell_type": "markdown",
      "source": [
        "ผล feature selection แตกต่างตามโมเดลที่ใช้"
      ],
      "metadata": {
        "id": "QseDM0QHdq4X"
      }
    },
    {
      "cell_type": "code",
      "source": [
        "svm_no = []\n",
        "rf_no = []\n",
        "for i in sfs_forward.k_feature_idx_:\n",
        "  if i not in svm_sfs_forward.k_feature_idx_:\n",
        "    svm_no.append(i)\n",
        "  if i not in rf_sfs_forward.k_feature_idx_:\n",
        "    rf_no.append(i)\n",
        "print(f'svm no {svm_no}')\n",
        "print(f'rf no {rf_no}')\n",
        "#กับknn  svmและrf ขาดตัวไหนบ้าง"
      ],
      "metadata": {
        "colab": {
          "base_uri": "https://localhost:8080/"
        },
        "id": "WiIrIprwbkFA",
        "outputId": "d1f70f98-9c65-478a-8afb-675987d7e429"
      },
      "execution_count": null,
      "outputs": [
        {
          "output_type": "stream",
          "name": "stdout",
          "text": [
            "svm no [21, 22, 26, 27, 30, 31, 32]\n",
            "rf no [0, 5, 7, 10, 16, 17, 22, 23, 31]\n"
          ]
        }
      ]
    },
    {
      "cell_type": "code",
      "source": [
        "from mlxtend.plotting import plot_sequential_feature_selection as plot_sfs\n",
        "import matplotlib.pyplot as plt\n",
        "\n",
        "fig1 = plot_sfs(sfs_forward.get_metric_dict(),\n",
        "                ylabel='Accuracy',\n",
        "                kind='std_dev')\n",
        "fig1 = plot_sfs(sfs_forward.get_metric_dict(),\n",
        "                ylabel='Accuracy',\n",
        "                kind='std_dev')\n",
        "fig1 = plot_sfs(sfs_forward.get_metric_dict(),\n",
        "                ylabel='Accuracy',\n",
        "                kind='std_dev')\n",
        "\n",
        "plt.ylim([0, 1])\n",
        "plt.title('Sequential Forward Selection (w. StdDev)')\n",
        "plt.grid()\n",
        "plt.show()"
      ],
      "metadata": {
        "id": "TbfoWo6q0PCI",
        "colab": {
          "base_uri": "https://localhost:8080/",
          "height": 527
        },
        "outputId": "cc6cad4e-736f-46fa-f9eb-f13cc2419f96"
      },
      "execution_count": null,
      "outputs": [
        {
          "output_type": "display_data",
          "data": {
            "text/plain": [
              "<Figure size 640x480 with 1 Axes>"
            ],
            "image/png": "[encoded data removed]"
          },
          "metadata": {}
        },
        {
          "output_type": "stream",
          "name": "stdout",
          "text": [
            "('sexo', 'temperatura_ambiente', 'valor_acido_urico', 'valor_albumina', 'valor_colesterol_ldl', 'valor_colesterol_total', 'valor_creatina', 'resultado_glucosa', 'valor_insulina', 'valor_trigliceridos', 'resultado_glucosa_promedio', 'valor_hemoglobina_glucosilada', 'valor_folato', 'peso', 'estatura', 'medida_cintura', 'segundamedicion_peso', 'segundamedicion_estatura', 'segundamedicion_cintura', 'tension_arterial', 'masa_corporal', 'actividad_total')\n",
            "(0, 3, 4, 5, 7, 8, 9, 10, 11, 12, 13, 14, 16, 22, 23, 24, 25, 26, 29, 30, 32, 33)\n"
          ]
        }
      ]
    }
  ]
}